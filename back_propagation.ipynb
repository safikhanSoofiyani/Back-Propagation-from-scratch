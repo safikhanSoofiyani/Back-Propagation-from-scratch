{
  "nbformat": 4,
  "nbformat_minor": 0,
  "metadata": {
    "colab": {
      "name": " Neural Network from Scratch",
      "provenance": [],
      "collapsed_sections": [],
      "include_colab_link": true
    },
    "kernelspec": {
      "name": "python3",
      "display_name": "Python 3"
    },
    "language_info": {
      "name": "python"
    },
    "widgets": {
      "application/vnd.jupyter.widget-state+json": {
        "2174ec287cf94766bdb9a31f09518eae": {
          "model_module": "@jupyter-widgets/controls",
          "model_name": "VBoxModel",
          "model_module_version": "1.5.0",
          "state": {
            "_view_name": "VBoxView",
            "_dom_classes": [],
            "_model_name": "VBoxModel",
            "_view_module": "@jupyter-widgets/controls",
            "_model_module_version": "1.5.0",
            "_view_count": null,
            "_view_module_version": "1.5.0",
            "box_style": "",
            "layout": "IPY_MODEL_6940ffb31b3b4b9f8f62238e7d15df72",
            "_model_module": "@jupyter-widgets/controls",
            "children": [
              "IPY_MODEL_7237b35791904be7b4c395147ab0756f",
              "IPY_MODEL_d0ba154ada2140099d67ae877344092a"
            ]
          }
        },
        "6940ffb31b3b4b9f8f62238e7d15df72": {
          "model_module": "@jupyter-widgets/base",
          "model_name": "LayoutModel",
          "model_module_version": "1.2.0",
          "state": {
            "_view_name": "LayoutView",
            "grid_template_rows": null,
            "right": null,
            "justify_content": null,
            "_view_module": "@jupyter-widgets/base",
            "overflow": null,
            "_model_module_version": "1.2.0",
            "_view_count": null,
            "flex_flow": null,
            "width": null,
            "min_width": null,
            "border": null,
            "align_items": null,
            "bottom": null,
            "_model_module": "@jupyter-widgets/base",
            "top": null,
            "grid_column": null,
            "overflow_y": null,
            "overflow_x": null,
            "grid_auto_flow": null,
            "grid_area": null,
            "grid_template_columns": null,
            "flex": null,
            "_model_name": "LayoutModel",
            "justify_items": null,
            "grid_row": null,
            "max_height": null,
            "align_content": null,
            "visibility": null,
            "align_self": null,
            "height": null,
            "min_height": null,
            "padding": null,
            "grid_auto_rows": null,
            "grid_gap": null,
            "max_width": null,
            "order": null,
            "_view_module_version": "1.2.0",
            "grid_template_areas": null,
            "object_position": null,
            "object_fit": null,
            "grid_auto_columns": null,
            "margin": null,
            "display": null,
            "left": null
          }
        },
        "7237b35791904be7b4c395147ab0756f": {
          "model_module": "@jupyter-widgets/controls",
          "model_name": "LabelModel",
          "model_module_version": "1.5.0",
          "state": {
            "_view_name": "LabelView",
            "style": "IPY_MODEL_c70e5b0abd514e9b966dec3f68e13781",
            "_dom_classes": [],
            "description": "",
            "_model_name": "LabelModel",
            "placeholder": "​",
            "_view_module": "@jupyter-widgets/controls",
            "_model_module_version": "1.5.0",
            "value": " 0.01MB of 0.01MB uploaded (0.00MB deduped)\r",
            "_view_count": null,
            "_view_module_version": "1.5.0",
            "description_tooltip": null,
            "_model_module": "@jupyter-widgets/controls",
            "layout": "IPY_MODEL_aaba43fc77644fec9fc9e6a0900c91dc"
          }
        },
        "d0ba154ada2140099d67ae877344092a": {
          "model_module": "@jupyter-widgets/controls",
          "model_name": "FloatProgressModel",
          "model_module_version": "1.5.0",
          "state": {
            "_view_name": "ProgressView",
            "style": "IPY_MODEL_a63045e0e64643299d8dcb23deed14e8",
            "_dom_classes": [],
            "description": "",
            "_model_name": "FloatProgressModel",
            "bar_style": "",
            "max": 1,
            "_view_module": "@jupyter-widgets/controls",
            "_model_module_version": "1.5.0",
            "value": 1,
            "_view_count": null,
            "_view_module_version": "1.5.0",
            "orientation": "horizontal",
            "min": 0,
            "description_tooltip": null,
            "_model_module": "@jupyter-widgets/controls",
            "layout": "IPY_MODEL_f547356504af48eb887c8e3ca132a183"
          }
        },
        "c70e5b0abd514e9b966dec3f68e13781": {
          "model_module": "@jupyter-widgets/controls",
          "model_name": "DescriptionStyleModel",
          "model_module_version": "1.5.0",
          "state": {
            "_view_name": "StyleView",
            "_model_name": "DescriptionStyleModel",
            "description_width": "",
            "_view_module": "@jupyter-widgets/base",
            "_model_module_version": "1.5.0",
            "_view_count": null,
            "_view_module_version": "1.2.0",
            "_model_module": "@jupyter-widgets/controls"
          }
        },
        "aaba43fc77644fec9fc9e6a0900c91dc": {
          "model_module": "@jupyter-widgets/base",
          "model_name": "LayoutModel",
          "model_module_version": "1.2.0",
          "state": {
            "_view_name": "LayoutView",
            "grid_template_rows": null,
            "right": null,
            "justify_content": null,
            "_view_module": "@jupyter-widgets/base",
            "overflow": null,
            "_model_module_version": "1.2.0",
            "_view_count": null,
            "flex_flow": null,
            "width": null,
            "min_width": null,
            "border": null,
            "align_items": null,
            "bottom": null,
            "_model_module": "@jupyter-widgets/base",
            "top": null,
            "grid_column": null,
            "overflow_y": null,
            "overflow_x": null,
            "grid_auto_flow": null,
            "grid_area": null,
            "grid_template_columns": null,
            "flex": null,
            "_model_name": "LayoutModel",
            "justify_items": null,
            "grid_row": null,
            "max_height": null,
            "align_content": null,
            "visibility": null,
            "align_self": null,
            "height": null,
            "min_height": null,
            "padding": null,
            "grid_auto_rows": null,
            "grid_gap": null,
            "max_width": null,
            "order": null,
            "_view_module_version": "1.2.0",
            "grid_template_areas": null,
            "object_position": null,
            "object_fit": null,
            "grid_auto_columns": null,
            "margin": null,
            "display": null,
            "left": null
          }
        },
        "a63045e0e64643299d8dcb23deed14e8": {
          "model_module": "@jupyter-widgets/controls",
          "model_name": "ProgressStyleModel",
          "model_module_version": "1.5.0",
          "state": {
            "_view_name": "StyleView",
            "_model_name": "ProgressStyleModel",
            "description_width": "",
            "_view_module": "@jupyter-widgets/base",
            "_model_module_version": "1.5.0",
            "_view_count": null,
            "_view_module_version": "1.2.0",
            "bar_color": null,
            "_model_module": "@jupyter-widgets/controls"
          }
        },
        "f547356504af48eb887c8e3ca132a183": {
          "model_module": "@jupyter-widgets/base",
          "model_name": "LayoutModel",
          "model_module_version": "1.2.0",
          "state": {
            "_view_name": "LayoutView",
            "grid_template_rows": null,
            "right": null,
            "justify_content": null,
            "_view_module": "@jupyter-widgets/base",
            "overflow": null,
            "_model_module_version": "1.2.0",
            "_view_count": null,
            "flex_flow": null,
            "width": null,
            "min_width": null,
            "border": null,
            "align_items": null,
            "bottom": null,
            "_model_module": "@jupyter-widgets/base",
            "top": null,
            "grid_column": null,
            "overflow_y": null,
            "overflow_x": null,
            "grid_auto_flow": null,
            "grid_area": null,
            "grid_template_columns": null,
            "flex": null,
            "_model_name": "LayoutModel",
            "justify_items": null,
            "grid_row": null,
            "max_height": null,
            "align_content": null,
            "visibility": null,
            "align_self": null,
            "height": null,
            "min_height": null,
            "padding": null,
            "grid_auto_rows": null,
            "grid_gap": null,
            "max_width": null,
            "order": null,
            "_view_module_version": "1.2.0",
            "grid_template_areas": null,
            "object_position": null,
            "object_fit": null,
            "grid_auto_columns": null,
            "margin": null,
            "display": null,
            "left": null
          }
        },
        "0aa640b5c9e843b6b86370443e7de989": {
          "model_module": "@jupyter-widgets/controls",
          "model_name": "VBoxModel",
          "model_module_version": "1.5.0",
          "state": {
            "_view_name": "VBoxView",
            "_dom_classes": [],
            "_model_name": "VBoxModel",
            "_view_module": "@jupyter-widgets/controls",
            "_model_module_version": "1.5.0",
            "_view_count": null,
            "_view_module_version": "1.5.0",
            "box_style": "",
            "layout": "IPY_MODEL_510566ce597a42539c099fc4e2d80644",
            "_model_module": "@jupyter-widgets/controls",
            "children": [
              "IPY_MODEL_7702c6812b6b4d9285fd00d4104430be",
              "IPY_MODEL_d96c0570414545c3b812a0d90301edbc"
            ]
          }
        },
        "510566ce597a42539c099fc4e2d80644": {
          "model_module": "@jupyter-widgets/base",
          "model_name": "LayoutModel",
          "model_module_version": "1.2.0",
          "state": {
            "_view_name": "LayoutView",
            "grid_template_rows": null,
            "right": null,
            "justify_content": null,
            "_view_module": "@jupyter-widgets/base",
            "overflow": null,
            "_model_module_version": "1.2.0",
            "_view_count": null,
            "flex_flow": null,
            "width": null,
            "min_width": null,
            "border": null,
            "align_items": null,
            "bottom": null,
            "_model_module": "@jupyter-widgets/base",
            "top": null,
            "grid_column": null,
            "overflow_y": null,
            "overflow_x": null,
            "grid_auto_flow": null,
            "grid_area": null,
            "grid_template_columns": null,
            "flex": null,
            "_model_name": "LayoutModel",
            "justify_items": null,
            "grid_row": null,
            "max_height": null,
            "align_content": null,
            "visibility": null,
            "align_self": null,
            "height": null,
            "min_height": null,
            "padding": null,
            "grid_auto_rows": null,
            "grid_gap": null,
            "max_width": null,
            "order": null,
            "_view_module_version": "1.2.0",
            "grid_template_areas": null,
            "object_position": null,
            "object_fit": null,
            "grid_auto_columns": null,
            "margin": null,
            "display": null,
            "left": null
          }
        },
        "7702c6812b6b4d9285fd00d4104430be": {
          "model_module": "@jupyter-widgets/controls",
          "model_name": "LabelModel",
          "model_module_version": "1.5.0",
          "state": {
            "_view_name": "LabelView",
            "style": "IPY_MODEL_84c5bac8fe254dcb95d5526b50c496a1",
            "_dom_classes": [],
            "description": "",
            "_model_name": "LabelModel",
            "placeholder": "​",
            "_view_module": "@jupyter-widgets/controls",
            "_model_module_version": "1.5.0",
            "value": " 0.01MB of 0.01MB uploaded (0.00MB deduped)\r",
            "_view_count": null,
            "_view_module_version": "1.5.0",
            "description_tooltip": null,
            "_model_module": "@jupyter-widgets/controls",
            "layout": "IPY_MODEL_2c84c4f31d184131ae17610f9d75e2e9"
          }
        },
        "d96c0570414545c3b812a0d90301edbc": {
          "model_module": "@jupyter-widgets/controls",
          "model_name": "FloatProgressModel",
          "model_module_version": "1.5.0",
          "state": {
            "_view_name": "ProgressView",
            "style": "IPY_MODEL_6c2458ee2e334fefb79d0d7ede73c0f5",
            "_dom_classes": [],
            "description": "",
            "_model_name": "FloatProgressModel",
            "bar_style": "",
            "max": 1,
            "_view_module": "@jupyter-widgets/controls",
            "_model_module_version": "1.5.0",
            "value": 1,
            "_view_count": null,
            "_view_module_version": "1.5.0",
            "orientation": "horizontal",
            "min": 0,
            "description_tooltip": null,
            "_model_module": "@jupyter-widgets/controls",
            "layout": "IPY_MODEL_c6a586dcfa984e658e48dd7811d9a4ad"
          }
        },
        "84c5bac8fe254dcb95d5526b50c496a1": {
          "model_module": "@jupyter-widgets/controls",
          "model_name": "DescriptionStyleModel",
          "model_module_version": "1.5.0",
          "state": {
            "_view_name": "StyleView",
            "_model_name": "DescriptionStyleModel",
            "description_width": "",
            "_view_module": "@jupyter-widgets/base",
            "_model_module_version": "1.5.0",
            "_view_count": null,
            "_view_module_version": "1.2.0",
            "_model_module": "@jupyter-widgets/controls"
          }
        },
        "2c84c4f31d184131ae17610f9d75e2e9": {
          "model_module": "@jupyter-widgets/base",
          "model_name": "LayoutModel",
          "model_module_version": "1.2.0",
          "state": {
            "_view_name": "LayoutView",
            "grid_template_rows": null,
            "right": null,
            "justify_content": null,
            "_view_module": "@jupyter-widgets/base",
            "overflow": null,
            "_model_module_version": "1.2.0",
            "_view_count": null,
            "flex_flow": null,
            "width": null,
            "min_width": null,
            "border": null,
            "align_items": null,
            "bottom": null,
            "_model_module": "@jupyter-widgets/base",
            "top": null,
            "grid_column": null,
            "overflow_y": null,
            "overflow_x": null,
            "grid_auto_flow": null,
            "grid_area": null,
            "grid_template_columns": null,
            "flex": null,
            "_model_name": "LayoutModel",
            "justify_items": null,
            "grid_row": null,
            "max_height": null,
            "align_content": null,
            "visibility": null,
            "align_self": null,
            "height": null,
            "min_height": null,
            "padding": null,
            "grid_auto_rows": null,
            "grid_gap": null,
            "max_width": null,
            "order": null,
            "_view_module_version": "1.2.0",
            "grid_template_areas": null,
            "object_position": null,
            "object_fit": null,
            "grid_auto_columns": null,
            "margin": null,
            "display": null,
            "left": null
          }
        },
        "6c2458ee2e334fefb79d0d7ede73c0f5": {
          "model_module": "@jupyter-widgets/controls",
          "model_name": "ProgressStyleModel",
          "model_module_version": "1.5.0",
          "state": {
            "_view_name": "StyleView",
            "_model_name": "ProgressStyleModel",
            "description_width": "",
            "_view_module": "@jupyter-widgets/base",
            "_model_module_version": "1.5.0",
            "_view_count": null,
            "_view_module_version": "1.2.0",
            "bar_color": null,
            "_model_module": "@jupyter-widgets/controls"
          }
        },
        "c6a586dcfa984e658e48dd7811d9a4ad": {
          "model_module": "@jupyter-widgets/base",
          "model_name": "LayoutModel",
          "model_module_version": "1.2.0",
          "state": {
            "_view_name": "LayoutView",
            "grid_template_rows": null,
            "right": null,
            "justify_content": null,
            "_view_module": "@jupyter-widgets/base",
            "overflow": null,
            "_model_module_version": "1.2.0",
            "_view_count": null,
            "flex_flow": null,
            "width": null,
            "min_width": null,
            "border": null,
            "align_items": null,
            "bottom": null,
            "_model_module": "@jupyter-widgets/base",
            "top": null,
            "grid_column": null,
            "overflow_y": null,
            "overflow_x": null,
            "grid_auto_flow": null,
            "grid_area": null,
            "grid_template_columns": null,
            "flex": null,
            "_model_name": "LayoutModel",
            "justify_items": null,
            "grid_row": null,
            "max_height": null,
            "align_content": null,
            "visibility": null,
            "align_self": null,
            "height": null,
            "min_height": null,
            "padding": null,
            "grid_auto_rows": null,
            "grid_gap": null,
            "max_width": null,
            "order": null,
            "_view_module_version": "1.2.0",
            "grid_template_areas": null,
            "object_position": null,
            "object_fit": null,
            "grid_auto_columns": null,
            "margin": null,
            "display": null,
            "left": null
          }
        },
        "0804e5724c844c199b71f01b926033f4": {
          "model_module": "@jupyter-widgets/controls",
          "model_name": "VBoxModel",
          "model_module_version": "1.5.0",
          "state": {
            "_view_name": "VBoxView",
            "_dom_classes": [],
            "_model_name": "VBoxModel",
            "_view_module": "@jupyter-widgets/controls",
            "_model_module_version": "1.5.0",
            "_view_count": null,
            "_view_module_version": "1.5.0",
            "box_style": "",
            "layout": "IPY_MODEL_112fa9071e7f4643839af5675dde4b29",
            "_model_module": "@jupyter-widgets/controls",
            "children": [
              "IPY_MODEL_7afce843532642d0bdc48b72d5286e15",
              "IPY_MODEL_5e22b33609344bd6ad42cbf6895d5f63"
            ]
          }
        },
        "112fa9071e7f4643839af5675dde4b29": {
          "model_module": "@jupyter-widgets/base",
          "model_name": "LayoutModel",
          "model_module_version": "1.2.0",
          "state": {
            "_view_name": "LayoutView",
            "grid_template_rows": null,
            "right": null,
            "justify_content": null,
            "_view_module": "@jupyter-widgets/base",
            "overflow": null,
            "_model_module_version": "1.2.0",
            "_view_count": null,
            "flex_flow": null,
            "width": null,
            "min_width": null,
            "border": null,
            "align_items": null,
            "bottom": null,
            "_model_module": "@jupyter-widgets/base",
            "top": null,
            "grid_column": null,
            "overflow_y": null,
            "overflow_x": null,
            "grid_auto_flow": null,
            "grid_area": null,
            "grid_template_columns": null,
            "flex": null,
            "_model_name": "LayoutModel",
            "justify_items": null,
            "grid_row": null,
            "max_height": null,
            "align_content": null,
            "visibility": null,
            "align_self": null,
            "height": null,
            "min_height": null,
            "padding": null,
            "grid_auto_rows": null,
            "grid_gap": null,
            "max_width": null,
            "order": null,
            "_view_module_version": "1.2.0",
            "grid_template_areas": null,
            "object_position": null,
            "object_fit": null,
            "grid_auto_columns": null,
            "margin": null,
            "display": null,
            "left": null
          }
        },
        "7afce843532642d0bdc48b72d5286e15": {
          "model_module": "@jupyter-widgets/controls",
          "model_name": "LabelModel",
          "model_module_version": "1.5.0",
          "state": {
            "_view_name": "LabelView",
            "style": "IPY_MODEL_e37519bd05ea426391da7710a6f4e8fd",
            "_dom_classes": [],
            "description": "",
            "_model_name": "LabelModel",
            "placeholder": "​",
            "_view_module": "@jupyter-widgets/controls",
            "_model_module_version": "1.5.0",
            "value": " 0.01MB of 0.01MB uploaded (0.00MB deduped)\r",
            "_view_count": null,
            "_view_module_version": "1.5.0",
            "description_tooltip": null,
            "_model_module": "@jupyter-widgets/controls",
            "layout": "IPY_MODEL_dbe32aecff434ec8905e72c57888aa75"
          }
        },
        "5e22b33609344bd6ad42cbf6895d5f63": {
          "model_module": "@jupyter-widgets/controls",
          "model_name": "FloatProgressModel",
          "model_module_version": "1.5.0",
          "state": {
            "_view_name": "ProgressView",
            "style": "IPY_MODEL_e4767a5976e04fde957e72e41419b62b",
            "_dom_classes": [],
            "description": "",
            "_model_name": "FloatProgressModel",
            "bar_style": "",
            "max": 1,
            "_view_module": "@jupyter-widgets/controls",
            "_model_module_version": "1.5.0",
            "value": 1,
            "_view_count": null,
            "_view_module_version": "1.5.0",
            "orientation": "horizontal",
            "min": 0,
            "description_tooltip": null,
            "_model_module": "@jupyter-widgets/controls",
            "layout": "IPY_MODEL_86a1b56c04c14c72b642fdbc8b0e54c9"
          }
        },
        "e37519bd05ea426391da7710a6f4e8fd": {
          "model_module": "@jupyter-widgets/controls",
          "model_name": "DescriptionStyleModel",
          "model_module_version": "1.5.0",
          "state": {
            "_view_name": "StyleView",
            "_model_name": "DescriptionStyleModel",
            "description_width": "",
            "_view_module": "@jupyter-widgets/base",
            "_model_module_version": "1.5.0",
            "_view_count": null,
            "_view_module_version": "1.2.0",
            "_model_module": "@jupyter-widgets/controls"
          }
        },
        "dbe32aecff434ec8905e72c57888aa75": {
          "model_module": "@jupyter-widgets/base",
          "model_name": "LayoutModel",
          "model_module_version": "1.2.0",
          "state": {
            "_view_name": "LayoutView",
            "grid_template_rows": null,
            "right": null,
            "justify_content": null,
            "_view_module": "@jupyter-widgets/base",
            "overflow": null,
            "_model_module_version": "1.2.0",
            "_view_count": null,
            "flex_flow": null,
            "width": null,
            "min_width": null,
            "border": null,
            "align_items": null,
            "bottom": null,
            "_model_module": "@jupyter-widgets/base",
            "top": null,
            "grid_column": null,
            "overflow_y": null,
            "overflow_x": null,
            "grid_auto_flow": null,
            "grid_area": null,
            "grid_template_columns": null,
            "flex": null,
            "_model_name": "LayoutModel",
            "justify_items": null,
            "grid_row": null,
            "max_height": null,
            "align_content": null,
            "visibility": null,
            "align_self": null,
            "height": null,
            "min_height": null,
            "padding": null,
            "grid_auto_rows": null,
            "grid_gap": null,
            "max_width": null,
            "order": null,
            "_view_module_version": "1.2.0",
            "grid_template_areas": null,
            "object_position": null,
            "object_fit": null,
            "grid_auto_columns": null,
            "margin": null,
            "display": null,
            "left": null
          }
        },
        "e4767a5976e04fde957e72e41419b62b": {
          "model_module": "@jupyter-widgets/controls",
          "model_name": "ProgressStyleModel",
          "model_module_version": "1.5.0",
          "state": {
            "_view_name": "StyleView",
            "_model_name": "ProgressStyleModel",
            "description_width": "",
            "_view_module": "@jupyter-widgets/base",
            "_model_module_version": "1.5.0",
            "_view_count": null,
            "_view_module_version": "1.2.0",
            "bar_color": null,
            "_model_module": "@jupyter-widgets/controls"
          }
        },
        "86a1b56c04c14c72b642fdbc8b0e54c9": {
          "model_module": "@jupyter-widgets/base",
          "model_name": "LayoutModel",
          "model_module_version": "1.2.0",
          "state": {
            "_view_name": "LayoutView",
            "grid_template_rows": null,
            "right": null,
            "justify_content": null,
            "_view_module": "@jupyter-widgets/base",
            "overflow": null,
            "_model_module_version": "1.2.0",
            "_view_count": null,
            "flex_flow": null,
            "width": null,
            "min_width": null,
            "border": null,
            "align_items": null,
            "bottom": null,
            "_model_module": "@jupyter-widgets/base",
            "top": null,
            "grid_column": null,
            "overflow_y": null,
            "overflow_x": null,
            "grid_auto_flow": null,
            "grid_area": null,
            "grid_template_columns": null,
            "flex": null,
            "_model_name": "LayoutModel",
            "justify_items": null,
            "grid_row": null,
            "max_height": null,
            "align_content": null,
            "visibility": null,
            "align_self": null,
            "height": null,
            "min_height": null,
            "padding": null,
            "grid_auto_rows": null,
            "grid_gap": null,
            "max_width": null,
            "order": null,
            "_view_module_version": "1.2.0",
            "grid_template_areas": null,
            "object_position": null,
            "object_fit": null,
            "grid_auto_columns": null,
            "margin": null,
            "display": null,
            "left": null
          }
        }
      }
    }
  },
  "cells": [
    {
      "cell_type": "markdown",
      "metadata": {
        "id": "view-in-github",
        "colab_type": "text"
      },
      "source": [
        "<a href=\"https://colab.research.google.com/github/safikhanSoofiyani/CS6910-Assignment1/blob/main/CS6910_Assignment1.ipynb\" target=\"_parent\"><img src=\"https://colab.research.google.com/assets/colab-badge.svg\" alt=\"Open In Colab\"/></a>"
      ]
    },
    {
      "cell_type": "markdown",
      "source": [
        "<h1> Feed Forward Neural Network</h1>\n",
        "\n",
        "Work Done by:<br>\n",
        "<ul> \n",
        "<li>Mohammed Safi Ur Rahman Khan - CS21M035 </li>\n",
        "<li>Vamsi Sai Krishna Malineni  - OE20S302 </li>"
      ],
      "metadata": {
        "id": "R5q7bg9s5L8S"
      }
    },
    {
      "cell_type": "markdown",
      "source": [
        "The goal of this work is two fold: <br>\n",
        "(i) implement and use gradient descent (and its variants) with backpropagation for a classification task <br>\n",
        "(ii) Getting familiar with wandb which is a cool tool for running and keeping track of a large number of experiments"
      ],
      "metadata": {
        "id": "nGbZ6RDKJuHV"
      }
    },
    {
      "cell_type": "markdown",
      "source": [
        "In this project we have implemented a feedforward neural network and written the backpropagation code for training the network. We have used numpy for all matrix/vector operations. We have not used any automatic differentiation packages.<br> <br>\n",
        "This network is trained and tested using the Fashion-MNIST dataset. Specifically, given an input image (28 x 28 = 784 pixels) from the Fashion-MNIST dataset, the network is trained to classify the image into 1 of 10 classes."
      ],
      "metadata": {
        "id": "Y3rdmr2YJ-Eb"
      }
    },
    {
      "cell_type": "markdown",
      "source": [
        "The numbering of various sections of this document are done in accordance with the instructions and question numbers from the below document:<br> \n",
        "https://wandb.ai/miteshk/assignments/reports/Assignment-1--VmlldzozNjk4NDE?accessToken=r7ndsh8lf4wlxyjln7phvvfb8ftvc0n4lyn4tiowdg06hhzpzfzki4jrm28wqh44"
      ],
      "metadata": {
        "id": "B5NOodH1L9zO"
      }
    },
    {
      "cell_type": "markdown",
      "source": [
        "### Declaration\n",
        "\n",
        "For the purpose of this project, we have used help from various online resources for help in understanding some concepts, intuition about the code flow, Debugging the various errors, etc.<br> <br>\n",
        "Wherever possible we have credited all the resources in their respective sections. <br> <br>\n",
        "Some of the frequently used resources include:<br>\n",
        "<ul> <li> StackOverflow (and its variants)</li>\n",
        "<li> Towards Data Science Blogs</li>\n",
        "<li> machinelearningmastery.com </li>\n",
        "<li> Medium Blogs </li>\n",
        "<li> Kaggle </li>\n",
        "<li> Lecture slides from Prof. Mitesh Khapra's  CS6910-Fundamentals of Deep Learning course.</li>\n",
        "</ul>\n",
        "<br> <br>\n",
        "\n",
        "We have tried to include as many resources that we have used, but in all possibiliy we may have missed many.<br>\n",
        "We profusely apologize to any other authors for using your resouces and content but failing to appropriately credit you.\n",
        "\n",
        "\n"
      ],
      "metadata": {
        "id": "avy-vAbnq-Ag"
      }
    },
    {
      "cell_type": "markdown",
      "source": [
        "<h3>Importing necessary libraries.</h3>"
      ],
      "metadata": {
        "id": "s_fr1Bcc6eOG"
      }
    },
    {
      "cell_type": "code",
      "execution_count": null,
      "metadata": {
        "id": "ahmgbKIg2f0o"
      },
      "outputs": [],
      "source": [
        "import keras\n",
        "from keras.datasets import fashion_mnist\n",
        "import numpy as np\n",
        "import matplotlib.pyplot as plt\n",
        "import copy \n",
        "from tqdm import tqdm\n",
        "import random\n",
        "import tensorflow as tf\n",
        "import seaborn as sn"
      ]
    },
    {
      "cell_type": "markdown",
      "source": [
        "<h3>Installing and importing wandb</h3>"
      ],
      "metadata": {
        "id": "OG-qZnHL7Gyb"
      }
    },
    {
      "cell_type": "markdown",
      "source": [
        "Wandb is used to keep track of various experiments performed and for efficient logging while doing hyperparameter tuning. <br>\n",
        "The report for this project is also created using wandb"
      ],
      "metadata": {
        "id": "MQuSOYQGR0bD"
      }
    },
    {
      "cell_type": "code",
      "source": [
        "!pip install wandb -qqq\n",
        "import wandb"
      ],
      "metadata": {
        "id": "VVG9Nfzc7DLP"
      },
      "execution_count": null,
      "outputs": []
    },
    {
      "cell_type": "markdown",
      "source": [
        "<h2>1. About the Dataset</h2>"
      ],
      "metadata": {
        "id": "2qdoUbpBQ-_A"
      }
    },
    {
      "cell_type": "markdown",
      "source": [
        "Fashion-MNIST is a dataset of Zalando's article images—consisting of a training set of 60,000 examples and a test set of 10,000 examples. Each example is a 28x28 grayscale image, associated with a label from 10 classes.<br>\n",
        "<br>\n",
        "Each image is 28 pixels in height and 28 pixels in width, for a total of 784 pixels in total. Each pixel has a single pixel-value associated with it, indicating the lightness or darkness of that pixel, with higher numbers meaning darker. This pixel-value is an integer between 0 and 255. <br><br>\n",
        "\n",
        "<b>Labels:</b>\n",
        "\n",
        "Each training and test example is assigned to one of the following labels:\n",
        "<ul>\n",
        "<li> T-shirt/top\n",
        "<li> Trouser\n",
        "<li> Pullover\n",
        "<li> Dress\n",
        "<li> Coat\n",
        "<li> Sandal\n",
        "<li> Shirt\n",
        "<li> Sneaker\n",
        "<li> Bag\n",
        "<li> Ankle boot\n",
        "</ul>"
      ],
      "metadata": {
        "id": "UkQpSIXORJo2"
      }
    },
    {
      "cell_type": "markdown",
      "source": [
        "Source: https://www.kaggle.com/zalando-research/fashionmnist"
      ],
      "metadata": {
        "id": "ouh4YpcaT9Nn"
      }
    },
    {
      "cell_type": "markdown",
      "source": [
        "<h3>Preparing dataset</h3>"
      ],
      "metadata": {
        "id": "GU1iINihIbYJ"
      }
    },
    {
      "cell_type": "code",
      "source": [
        "from sklearn.model_selection import train_test_split\n",
        "#sklearn library is used only for train test validation split\n",
        "\n",
        "\n",
        "def prepare_data():\n",
        "\n",
        "  '''This function is used to load the data, define the class labels, performing\n",
        "      the train-test-validation split, normalizing the data, flattening each data\n",
        "      point, converting the class labels to one hot encoded vector.\n",
        "\n",
        "      It return all the split data sets '''\n",
        "\n",
        "\n",
        "  # Loading data from online source\n",
        "  (train_x,train_y),(test_x,test_y)=fashion_mnist.load_data()\n",
        "\n",
        "  # Defining labels for data\n",
        "  num_classes = 10\n",
        "  labels=['T-shirt/top','Trouser','Pullover','Dress','Coat','Sandal','Shirt','Sneaker','Bag','Ankle boot']\n",
        "\n",
        "  print(\"Number of data points in train data (initially) - \", len(train_x))\n",
        "  print(\"Number of data points in test data (initially) - \", len(test_x))\n",
        "\n",
        "\n",
        "  #performing the train-validation split\n",
        "  train_x, val_x, train_y, val_y = train_test_split(train_x, train_y, test_size=0.1, random_state=40)\n",
        "  \n",
        "\n",
        "  print(\"Shape of each image - 28x28\" )\n",
        "  image_shape=train_x.shape[1]*train_x.shape[2]\n",
        "  print(\"shape of each image (1D) - \",image_shape)\n",
        "  \n",
        "  #storing the number of points in each set\n",
        "  train_image_count=len(train_x)\n",
        "  val_image_count = len(val_x)\n",
        "  test_image_count=len(test_x)\n",
        "  \n",
        "  # Creating a matrix of image data \n",
        "  # each image is represented as a row by flattening the matrix: converting (60000,28,28) tensor to (60000,784) matrix\n",
        "  X_train=np.zeros((train_image_count,image_shape))\n",
        "  X_val=np.zeros((val_image_count,image_shape))\n",
        "  X_test=np.zeros((test_image_count,image_shape))\n",
        "  \n",
        "  # converting the images into grayscale by normalizing\n",
        "  for i in range(train_image_count):\n",
        "    X_train[i]=(copy.deepcopy(train_x[i].flatten()))/255.0 \n",
        "  for i in range(val_image_count):\n",
        "    X_val[i]=(copy.deepcopy(val_x[i].flatten()))/255.0\n",
        "  for i in range(test_image_count):\n",
        "    X_test[i]=(copy.deepcopy(test_x[i].flatten()))/255.0\n",
        "  \n",
        "\n",
        "\n",
        "  #One hot encoding the label vectors to represent a probability distribution\n",
        "  y_train = np.zeros((train_y.size, 10))\n",
        "  y_train[np.arange(train_y.size), train_y] = 1\n",
        "\n",
        "  y_val = np.zeros((val_y.size, 10))\n",
        "  y_val[np.arange(val_y.size), val_y] = 1\n",
        "\n",
        "  y_test = np.zeros((test_y.size, 10))\n",
        "  y_test[np.arange(test_y.size), test_y] = 1\n",
        "\n",
        "  \n",
        "\n",
        "  #returning all the datasets along with the labels\n",
        "  return X_train,X_val,X_test,y_train,y_val,y_test,labels\n",
        "  "
      ],
      "metadata": {
        "id": "uIanRhNjIZiu"
      },
      "execution_count": null,
      "outputs": []
    },
    {
      "cell_type": "markdown",
      "source": [
        "<h3>Plotting images locally</h3>"
      ],
      "metadata": {
        "id": "kM6jDLswWRYP"
      }
    },
    {
      "cell_type": "code",
      "source": [
        "def plot_locally():\n",
        "\n",
        "  '''This function is used to plot a single image of each class label on the \n",
        "  local machine'''\n",
        "\n",
        "  #getting all the datasets\n",
        "  xtrain, xval, xtest, ytrain, yval, ytest, labels = prepare_data()\n",
        "\n",
        "  # Creating training dataset\n",
        "  train=np.asarray(list(zip(xtrain,ytrain)))\n",
        "\n",
        "  # plotting a single image from each class\n",
        "  sample_images=[]\n",
        "  wandb_arr=[]\n",
        "  i=1\n",
        "  plt.suptitle(\"Plotting image of each class from Fashion MNIST Dataset\")\n",
        "\n",
        "  while(len(sample_images)!=10):\n",
        "    n=random.randrange(0,len(train))\n",
        "    lab_index=np.asarray(np.nonzero(train[n][1]))[0][0]\n",
        "    \n",
        "    if(lab_index not in sample_images):\n",
        "      plt.subplot(3,5,i)\n",
        "      sample_images.append(lab_index)\n",
        "      plt.title(labels[lab_index])\n",
        "      plt.axis(False)\n",
        "      plt.imshow(train[n][0].reshape((28,28)))\n",
        "      i=i+1"
      ],
      "metadata": {
        "id": "VmT6fEAtWQzV"
      },
      "execution_count": null,
      "outputs": []
    },
    {
      "cell_type": "code",
      "source": [
        "plot_locally()"
      ],
      "metadata": {
        "id": "wTFiRD0Zcu2Y",
        "colab": {
          "base_uri": "https://localhost:8080/",
          "height": 512
        },
        "outputId": "30051634-3a87-49ea-c5e8-caa966b27252"
      },
      "execution_count": null,
      "outputs": [
        {
          "output_type": "stream",
          "name": "stdout",
          "text": [
            "Downloading data from https://storage.googleapis.com/tensorflow/tf-keras-datasets/train-labels-idx1-ubyte.gz\n",
            "32768/29515 [=================================] - 0s 0us/step\n",
            "40960/29515 [=========================================] - 0s 0us/step\n",
            "Downloading data from https://storage.googleapis.com/tensorflow/tf-keras-datasets/train-images-idx3-ubyte.gz\n",
            "26427392/26421880 [==============================] - 0s 0us/step\n",
            "26435584/26421880 [==============================] - 0s 0us/step\n",
            "Downloading data from https://storage.googleapis.com/tensorflow/tf-keras-datasets/t10k-labels-idx1-ubyte.gz\n",
            "16384/5148 [===============================================================================================] - 0s 0us/step\n",
            "Downloading data from https://storage.googleapis.com/tensorflow/tf-keras-datasets/t10k-images-idx3-ubyte.gz\n",
            "4423680/4422102 [==============================] - 0s 0us/step\n",
            "4431872/4422102 [==============================] - 0s 0us/step\n",
            "Number of data points in train data (initially) -  60000\n",
            "Number of data points in test data (initially) -  10000\n",
            "Shape of each image - 28x28\n",
            "shape of each image (1D) -  784\n"
          ]
        },
        {
          "output_type": "stream",
          "name": "stderr",
          "text": [
            "/usr/local/lib/python3.7/dist-packages/ipykernel_launcher.py:4: VisibleDeprecationWarning: Creating an ndarray from ragged nested sequences (which is a list-or-tuple of lists-or-tuples-or ndarrays with different lengths or shapes) is deprecated. If you meant to do this, you must specify 'dtype=object' when creating the ndarray.\n",
            "  after removing the cwd from sys.path.\n"
          ]
        },
        {
          "output_type": "display_data",
          "data": {
            "image/png": "[encoded data removed]",
            "text/plain": [
              "<Figure size 432x288 with 10 Axes>"
            ]
          },
          "metadata": {
            "needs_background": "light"
          }
        }
      ]
    },
    {
      "cell_type": "markdown",
      "source": [
        "<h3>Plotting images via wandb</h3>"
      ],
      "metadata": {
        "id": "nRU6TlqpVSFz"
      }
    },
    {
      "cell_type": "code",
      "source": [
        "# Forcing Relogin to ensure that you are logging into your account alone,\n",
        "!wandb login --relogin\n",
        "# Find your API Key and paste it in the run box\n",
        "\n",
        "# You can change the entity name and project name \n",
        "entity_name=\"safi-vamsi-cs6910\"\n",
        "\n",
        "project_name=\"Assignment 1\""
      ],
      "metadata": {
        "id": "AdP0H8En8pB5"
      },
      "execution_count": null,
      "outputs": []
    },
    {
      "cell_type": "code",
      "source": [
        "def plot_images_wandb(entity_name,project_name):\n",
        "  # Here we are implementing the same above logic but plotting all the images on\n",
        "  # Wandb.\n",
        "\n",
        "  # Enter the entity and project details from wandb.ai\n",
        "  wandb.init(entity=entity_name,project=project_name, name=\"log_images\")\n",
        "\n",
        "  # Loading dataset\n",
        "  xtrain, xval, xtest, ytrain, yval, ytest, labels = prepare_data()\n",
        "\n",
        "  # Creating training dataset\n",
        "  train = np.asarray(list(zip(xtrain,ytrain)))\n",
        "\n",
        "\n",
        "  sample_images=[]\n",
        "  wandb_arr=[]\n",
        "  i=1\n",
        "  plt.suptitle(\"Plotting image of each class from Fashion MNIST Dataset\")\n",
        "  while(len(sample_images)!=10):\n",
        "    n = random.randrange(0,len(train))\n",
        "    lab_index = np.asarray(np.nonzero(train[n][1]))[0][0]\n",
        "    if(lab_index not in sample_images):\n",
        "      sample_images.append(lab_index)\n",
        "      wandb_arr.append(wandb.Image(train[n][0].reshape((28,28)), caption=labels[lab_index]))\n",
        "      i = i+1\n",
        "  wandb.log({\"images\":wandb_arr})\n",
        "  wandb.finish()\n"
      ],
      "metadata": {
        "id": "-9BOTbyz3rpR"
      },
      "execution_count": null,
      "outputs": []
    },
    {
      "cell_type": "code",
      "source": [
        "plot_images_wandb(entity_name,project_name)"
      ],
      "metadata": {
        "id": "z-clQdZt83R8"
      },
      "execution_count": null,
      "outputs": []
    },
    {
      "cell_type": "markdown",
      "source": [
        "<h2> Defining Various Utility functions</h2>"
      ],
      "metadata": {
        "id": "7OI2Z4lEK1Ro"
      }
    },
    {
      "cell_type": "markdown",
      "source": [
        "Throughout this project, we have used various functions that we have each individually defined in this section.\n",
        "<ul>\n",
        "<li> Initialization Functions</li>\n",
        "<li> Loss Functions</li>\n",
        "<li> Activation Funcitons and their derivatives</li>"
      ],
      "metadata": {
        "id": "TLTyxzJ8TJjs"
      }
    },
    {
      "cell_type": "markdown",
      "source": [
        "<h3> Initialization Functions</h3>"
      ],
      "metadata": {
        "id": "cBekYpc66E6s"
      }
    },
    {
      "cell_type": "markdown",
      "source": [
        "Resource used: https://machinelearningmastery.com/weight-initialization-for-deep-learning-neural-networks/"
      ],
      "metadata": {
        "id": "a6obe5deUR2A"
      }
    },
    {
      "cell_type": "markdown",
      "source": [
        "<h4>Xavier</h4>"
      ],
      "metadata": {
        "id": "J-vCuKLzUsy-"
      }
    },
    {
      "cell_type": "code",
      "source": [
        "\n",
        "def Xavier(layer_sizes):\n",
        "\n",
        "  '''This function is used to get the xavier initialization for the \n",
        "  given network architecture.\n",
        "\n",
        "  It takes input layer_sizes which is a list of the number of neurons\n",
        "  in each hidden layer.\n",
        "\n",
        "  It returns a dictionary which has the various w and b parameters,\n",
        "  initialized using xavier initialization'''\n",
        "\n",
        "  params = {}\n",
        "  for i in range(1,len(layer_sizes)):\n",
        "      norm_xav=np.sqrt(6)/np.sqrt(layer_sizes[i]+layer_sizes[i-1])\n",
        "      params[\"w\"+str(i)]=np.random.randn(layer_sizes[i],layer_sizes[i-1])*norm_xav\n",
        "      params[\"b\"+str(i)]=np.zeros((layer_sizes[i],1))\n",
        "  \n",
        "  return params\n",
        "\n",
        "\n"
      ],
      "metadata": {
        "id": "nUVnJQfuUHqb"
      },
      "execution_count": null,
      "outputs": []
    },
    {
      "cell_type": "markdown",
      "source": [
        "<h4> Random</h4>"
      ],
      "metadata": {
        "id": "eOfqsoS8Uv4M"
      }
    },
    {
      "cell_type": "code",
      "source": [
        "def Random(layer_sizes):\n",
        "\n",
        "  '''This function is used to get the random initialization for the \n",
        "  given network architecture.\n",
        "\n",
        "  It takes input layer_sizes which is a list of the number of neurons\n",
        "  in each hidden layer.\n",
        "\n",
        "  It returns a dictionary which has the various w and b parameters,\n",
        "  initialized using random initialization'''\n",
        "\n",
        "  params = {}\n",
        "  for i in range(1,len(layer_sizes)):\n",
        "      params[\"w\"+str(i)]=0.01*np.random.randn(layer_sizes[i],layer_sizes[i-1])\n",
        "      params[\"b\"+str(i)]=0.01*np.random.randn(layer_sizes[i],1)\n",
        "\n",
        "  return params"
      ],
      "metadata": {
        "id": "1sRkD2gu46dL"
      },
      "execution_count": null,
      "outputs": []
    },
    {
      "cell_type": "markdown",
      "source": [
        "<h3> Activation Functions </h3>"
      ],
      "metadata": {
        "id": "I7VIhXa56Zi0"
      }
    },
    {
      "cell_type": "markdown",
      "source": [
        "Resource used: https://machinelearningmastery.com/choose-an-activation-function-for-deep-learning/"
      ],
      "metadata": {
        "id": "xT0j8JKtVTO9"
      }
    },
    {
      "cell_type": "markdown",
      "source": [
        "<h4> Sigmoid</h4>"
      ],
      "metadata": {
        "id": "wSPSDsgdVVSD"
      }
    },
    {
      "cell_type": "code",
      "source": [
        "def sigmoid(pre_act):\n",
        "  try:\n",
        "    return (1.0/(1.0+np.exp(-pre_act)))\n",
        "  except:\n",
        "    print(\"error in sigmoid\")"
      ],
      "metadata": {
        "id": "ZM7quY3l6PZZ"
      },
      "execution_count": null,
      "outputs": []
    },
    {
      "cell_type": "markdown",
      "source": [
        "<h4>Tanh</h4>"
      ],
      "metadata": {
        "id": "sIsWryV5VYCW"
      }
    },
    {
      "cell_type": "code",
      "source": [
        "def tanh(pre_act):\n",
        "  return (np.tanh(pre_act))\n"
      ],
      "metadata": {
        "id": "dAvWjzlz6RjK"
      },
      "execution_count": null,
      "outputs": []
    },
    {
      "cell_type": "markdown",
      "source": [
        "<h4>ReLU</h4>"
      ],
      "metadata": {
        "id": "m6rrPjTtVaWp"
      }
    },
    {
      "cell_type": "code",
      "source": [
        "def relu(pre_act):\n",
        "  return (np.maximum(0,pre_act))"
      ],
      "metadata": {
        "id": "D8ZpvzQu6TZt"
      },
      "execution_count": null,
      "outputs": []
    },
    {
      "cell_type": "markdown",
      "source": [
        "<h4> Output Activation : Softmax</h4>"
      ],
      "metadata": {
        "id": "vhvueCZHVhB_"
      }
    },
    {
      "cell_type": "code",
      "source": [
        "def softmax(x):\n",
        "  try:\n",
        "    return(np.exp(x)/np.sum(np.exp(x)))\n",
        "  except:\n",
        "    print(\"error in softmax\")"
      ],
      "metadata": {
        "id": "8Vq4OnO96WRI"
      },
      "execution_count": null,
      "outputs": []
    },
    {
      "cell_type": "markdown",
      "source": [
        "<h4> Derivatives of Activation Functions </h4>"
      ],
      "metadata": {
        "id": "PZcX9QpD6keQ"
      }
    },
    {
      "cell_type": "markdown",
      "source": [
        "Resources used:<br>\n",
        "https://towardsdatascience.com/derivative-of-the-softmax-function-and-the-categorical-cross-entropy-loss-ffceefc081d1"
      ],
      "metadata": {
        "id": "3YuXUKAS4zJr"
      }
    },
    {
      "cell_type": "code",
      "source": [
        "def sigmoid_derivative(x):\n",
        "  return sigmoid(x)*(1-sigmoid(x))"
      ],
      "metadata": {
        "id": "6SgvWXU76reg"
      },
      "execution_count": null,
      "outputs": []
    },
    {
      "cell_type": "code",
      "source": [
        "def tanh_derivative(x):\n",
        "  return 1.0 -tanh(x)**2\n"
      ],
      "metadata": {
        "id": "EFMQdq_b6rcV"
      },
      "execution_count": null,
      "outputs": []
    },
    {
      "cell_type": "code",
      "source": [
        "def relu_derivative(x):\n",
        "  return 1. * (x>0)"
      ],
      "metadata": {
        "id": "bUXYoFkF6rZ-"
      },
      "execution_count": null,
      "outputs": []
    },
    {
      "cell_type": "code",
      "source": [
        "def softmax_derivative(x):\n",
        "  return softmax(x) * (1-softmax(x))"
      ],
      "metadata": {
        "id": "Up46ku0y6rRm"
      },
      "execution_count": null,
      "outputs": []
    },
    {
      "cell_type": "code",
      "source": [
        "def derivative(A, activation):\n",
        "\n",
        "  '''This function is essentially a caller function. It takes in the \n",
        "  kindof activation funciton used as well as the value and calls the \n",
        "  respective activation functions derivative\n",
        "\n",
        "  Input is the actual data and the choice of activation funtion.\n",
        "\n",
        "  Output is the derivative of that data wrt the activation function'''\n",
        "\n",
        "  if activation == \"sigmoid\":\n",
        "    return sigmoid_derivative(A)\n",
        "  elif activation == \"tanh\":\n",
        "    return tanh_derivative(A)\n",
        "  elif activation == \"relu\":\n",
        "    return relu_derivative(A)\n"
      ],
      "metadata": {
        "id": "rHgm-ZbS6OLW"
      },
      "execution_count": null,
      "outputs": []
    },
    {
      "cell_type": "markdown",
      "source": [
        "<h3>Loss Functions</h3>"
      ],
      "metadata": {
        "id": "56KNthDl67G7"
      }
    },
    {
      "cell_type": "markdown",
      "source": [
        "Resources used:<br>\n",
        " https://machinelearningmastery.com/loss-and-loss-functions-for-training-deep-learning-neural-networks/<br>\n",
        " https://towardsdatascience.com/derivative-of-the-softmax-function-and-the-categorical-cross-entropy-loss-ffceefc081d1"
      ],
      "metadata": {
        "id": "0pduqoTjWJZx"
      }
    },
    {
      "cell_type": "markdown",
      "source": [
        "<h4> Mean Squared Error Loss</h4>"
      ],
      "metadata": {
        "id": "FDDkMlTiWTEY"
      }
    },
    {
      "cell_type": "code",
      "source": [
        "def MSE(y, y_hat):\n",
        "  error = np.sum(((y - y_hat)**2) / (2 * len(y)))\n",
        "  return error"
      ],
      "metadata": {
        "id": "PRnQH-867Ayy"
      },
      "execution_count": null,
      "outputs": []
    },
    {
      "cell_type": "markdown",
      "source": [
        "<h4>Cross Entropy Loss</h4>"
      ],
      "metadata": {
        "id": "uKCkovZqWXuY"
      }
    },
    {
      "cell_type": "code",
      "source": [
        "def CrossEntropy(y, y_hat):\n",
        "  error = - np.sum( np.multiply(y , np.log(y_hat)))/len(y)\n",
        "  return error"
      ],
      "metadata": {
        "id": "YP4QzvRF7Xw-"
      },
      "execution_count": null,
      "outputs": []
    },
    {
      "cell_type": "markdown",
      "source": [
        "<h4> Regularization (weight decay)</h4>"
      ],
      "metadata": {
        "id": "IR-cQwHCWd7b"
      }
    },
    {
      "cell_type": "markdown",
      "source": [
        "Resource used: https://towardsdatascience.com/weight-decay-l2-regularization-90a9e17713cd"
      ],
      "metadata": {
        "id": "2qs5BCSMWwDG"
      }
    },
    {
      "cell_type": "code",
      "source": [
        "\n",
        "# Calculating loss \n",
        "def loss_calc(loss_name, y, y_hat, lambd, layer_sizes, parameters):\n",
        "\n",
        "  '''This function is used to calculate the L2 Regularized loss.\n",
        "  \n",
        "  Input is the loss name which denotes the type of loss, the true labels,\n",
        "  the predicted labels, lambda (i.e., for L2 Regularization), architecture \n",
        "  of the network and the parameters dictionary\n",
        "\n",
        "  Output is the L2 Regularized Loss'''\n",
        "\n",
        "  error=0\n",
        "  if(loss_name == \"squared_loss\"):\n",
        "    error=MSE(y, y_hat)\n",
        "  elif(loss_name == \"cross_entropy\"):\n",
        "    error=CrossEntropy(y, y_hat)\n",
        "    #error = -np.sum(np.sum(y_t*np.log(y_hat)))\n",
        "\n",
        "  #For L2 Regularization\n",
        "  regularized_error = 0.0\n",
        "  for i in range(len(layer_sizes)-1, 0, -1):\n",
        "    regularized_error += (np.sum(parameters[\"w\"+str(i)]))**2\n",
        "  regularized_error = error + ((lambd/(2*len(y)))*(regularized_error))\n",
        "\n",
        "\n",
        "  return regularized_error"
      ],
      "metadata": {
        "id": "MyC7PPN16-Sn"
      },
      "execution_count": null,
      "outputs": []
    },
    {
      "cell_type": "markdown",
      "source": [
        "<h4> Accuracy <h4>\n",
        "\n"
      ],
      "metadata": {
        "id": "j1tkJKxj0QzZ"
      }
    },
    {
      "cell_type": "markdown",
      "source": [
        "Resources used:<br>\n",
        "https://towardsdatascience.com/comprehensive-guide-to-multiclass-classification-with-sklearn-127cc500f362<br>\n",
        "https://scikit-learn.org/stable/modules/generated/sklearn.metrics.accuracy_score.html\n"
      ],
      "metadata": {
        "id": "nwbD3kpd4ecJ"
      }
    },
    {
      "cell_type": "code",
      "source": [
        "def calc_accuracy(res, y_t):\n",
        "    \n",
        "    '''This function is used to calculate the accuracy of the given prediction\n",
        "\n",
        "    Input is the true labels, and the predicted labels. Here, both true and\n",
        "    predicted labels are in the probability distribution format.\n",
        "\n",
        "    Output is the single float value that denotes the accuracy of the prediction'''\n",
        "\n",
        "    acc=0.0\n",
        "    \n",
        "    for x in range(len(res)):\n",
        "      if(res[x].argmax()==y_t[x].argmax()):\n",
        "        acc+=1\n",
        "    acc=acc/len(y_t)\n",
        "    return(acc*100)"
      ],
      "metadata": {
        "id": "H-FBfniHt5I_"
      },
      "execution_count": null,
      "outputs": []
    },
    {
      "cell_type": "code",
      "source": [
        "def calc_test_accuracy(y_pred, y_t):\n",
        "\n",
        "  '''This function is used to calculate the accuracy of the given prediction\n",
        "\n",
        "    Input is the true labels, and the predicted labels.\n",
        "\n",
        "    Output is the single float value that denotes the accuracy of the prediction'''\n",
        "\n",
        "  acc=0.0\n",
        "\n",
        "  for i in range(len(y_pred)):\n",
        "    if(y_pred[i]==y_t[i]):\n",
        "      acc+=1\n",
        "  acc=acc/len(y_t)\n",
        "  return(acc*100)"
      ],
      "metadata": {
        "id": "Bghjsd1F6-QF"
      },
      "execution_count": null,
      "outputs": []
    },
    {
      "cell_type": "markdown",
      "source": [
        "<h1>2. Implementation of the Neural Network"
      ],
      "metadata": {
        "id": "2Nzcdpj7KxpQ"
      }
    },
    {
      "cell_type": "markdown",
      "source": [
        "<h2> Initialization of Neural Network</h2>"
      ],
      "metadata": {
        "id": "RvRGfWa078JY"
      }
    },
    {
      "cell_type": "markdown",
      "source": [
        "Intuition about how to store the various parameters in our network and the overall architecture of the network was taken from the below article: https://www.kaggle.com/mtax687/l-layer-neural-network-using-numpy"
      ],
      "metadata": {
        "id": "Ukg4cZ-bYBDP"
      }
    },
    {
      "cell_type": "code",
      "source": [
        "def nn_init(layer_sizes, init_type = \"random\"):\n",
        "\n",
        "  '''This funciton is used to initialize the neural network with the \n",
        "  choice of the initialization.\n",
        "\n",
        "  Input is the broad sizes of the various layers stored in a list and the\n",
        "  choice of initialization type: xavier or random\n",
        "\n",
        "  Output is the parameters dictionary which stores the various parameters\n",
        "  for each layer.'''\n",
        "\n",
        "  # The parameters are stored as a dictionary with each layer having its own\n",
        "  # key for W and b. \n",
        "\n",
        "  # initializing parameters for the neural network, \n",
        "  params={}\n",
        "  if(init_type==\"xavier\"):\n",
        "    params = Xavier(layer_sizes)\n",
        "\n",
        "  elif(init_type==\"random\"):\n",
        "    params = Random(layer_sizes)\n",
        "\n",
        "  else:\n",
        "    print(\"Enter a valid weight initilization type\")\n",
        "\n",
        "  return params\n"
      ],
      "metadata": {
        "id": "2ZICexToBSP0"
      },
      "execution_count": null,
      "outputs": []
    },
    {
      "cell_type": "markdown",
      "source": [
        "<h2> Forward Propagation</h2>"
      ],
      "metadata": {
        "id": "Noyewh3N8QGB"
      }
    },
    {
      "cell_type": "markdown",
      "source": [
        "Resources used:<br>\n",
        " https://www.geeksforgeeks.org/implementation-of-neural-network-from-scratch-using-numpy/\n",
        " <br> https://towardsdatascience.com/back-propagation-demystified-in-7-minutes-4294d71a04d7"
      ],
      "metadata": {
        "id": "wn2Qro9iZWSZ"
      }
    },
    {
      "cell_type": "code",
      "source": [
        "def forward_prop(X, y, params, active, layer_sizes):\n",
        "  \n",
        "  '''This function is used to forward propagate the data point and return \n",
        "  the predicted label.\n",
        "\n",
        "  Input is the given data point (only one data point) and its respective true \n",
        "  label vector, the parameters dictionary, the activation functions choice\n",
        "  and the overall architecture of the network.\n",
        "\n",
        "  Output is the predicted y label i.e., y_hat and the list of\n",
        "  various preactivations and post activations for each neuron of each layer.\n",
        "  (Each is stored as a list of list) '''\n",
        "\n",
        "\n",
        "  # Extracting only the image data not the label for the image data\n",
        "  out=copy.deepcopy(X)\n",
        "  out=out.reshape(-1,1)\n",
        "  \n",
        "  #These are stored just to make it easy to keep track of the indices along with layers.\n",
        "  h=[out] # To save the activations for each neuron in a layer\n",
        "  a=[out] # To save the preactivation for each neuron in a layer\n",
        "\n",
        "  if(active==\"sigmoid\"):\n",
        "    for i in range(1,len(layer_sizes)-1):\n",
        "      weights = params[\"w\"+str(i)]\n",
        "      biases = params[\"b\"+str(i)]\n",
        "      \n",
        "      #Actual Forward Propagation logic\n",
        "      out = np.dot(weights,h[i-1])+biases\n",
        "      a.append(out)\n",
        "      post_a = sigmoid(out)\n",
        "      h.append(post_a)\n",
        "  \n",
        "  elif(active==\"tanh\"):\n",
        "    for i in range(1,len(layer_sizes)-1):\n",
        "      weights=params[\"w\"+str(i)]\n",
        "      biases=params[\"b\"+str(i)]\n",
        "      \n",
        "      #Actual Forward Propagation logic\n",
        "      out=np.dot(weights,h[i-1])+biases\n",
        "      a.append(out)\n",
        "      post_a=tanh(out)\n",
        "      h.append(post_a)\n",
        "  \n",
        "  elif(active==\"relu\"):\n",
        "    for i in range(1,len(layer_sizes)-1):\n",
        "      weights=params[\"w\"+str(i)]\n",
        "      biases=params[\"b\"+str(i)]\n",
        "      \n",
        "      #Actual Forward Propagation logic\n",
        "      out=np.dot(weights,h[i-1])+biases\n",
        "      a.append(out)\n",
        "      post_a=relu(out)\n",
        "      h.append(post_a)       \n",
        "  else:\n",
        "    print(\"Enter a valid activation function\") \n",
        "\n",
        "  # Final step for forward propagation, using softmax.\n",
        "  weights=params[\"w\"+str(len(layer_sizes)-1)]\n",
        "  biases=params[\"b\"+str(len(layer_sizes)-1)]\n",
        "  \n",
        "  out=np.dot(weights,h[len(layer_sizes)-2])+biases\n",
        "  a.append(out)\n",
        "  y_hat=softmax(out)\n",
        "  h.append(y_hat)\n",
        "  \n",
        "  \n",
        "  #in h we  are storing values for layers right from input till output\n",
        "  #h0 is input\n",
        "  #in a we are storing values for layers right from input till output\n",
        "  #a0 is input\n",
        "\n",
        "  return h,a,y_hat"
      ],
      "metadata": {
        "id": "8VaQdyqbrqsO"
      },
      "execution_count": null,
      "outputs": []
    },
    {
      "cell_type": "markdown",
      "source": [
        "<h2>Back Propagation</h2>"
      ],
      "metadata": {
        "id": "wmjefdiK8cxi"
      }
    },
    {
      "cell_type": "markdown",
      "source": [
        "Resource used:<br> https://www.cs.swarthmore.edu/~meeden/cs81/s10/BackPropDeriv.pdf <br>\n",
        "https://dfdazac.github.io/06-neural-networks-numpy.html<br>\n",
        "Lecture slides from Mitesh Khapra were also used extensively."
      ],
      "metadata": {
        "id": "-qqgoKSbcr6z"
      }
    },
    {
      "cell_type": "markdown",
      "source": [
        "This is a <b>to the point</b> coding of the pseudo code that was discussed in the class"
      ],
      "metadata": {
        "id": "5xpMKTT6a6dD"
      }
    },
    {
      "cell_type": "code",
      "source": [
        "def back_prop(y, y_hat, h, a, params, loss_type, layer_sizes, activation):\n",
        "  \n",
        "  '''This is the heart of the code. It is used to back propagate the calculated \n",
        "  error and calculating the gradients for each required entity\n",
        "\n",
        "  The input is the true label, predicted label, preactivations, postactivations,\n",
        "  paramters dicionary, the type of loss considered, overall network architecture\n",
        "  and the choice of activation function.\n",
        "\n",
        "  The output is the gradient dictionary which stores the gradients calculated\n",
        "  for each parameter. '''\n",
        "\n",
        "  # We are considering point by point. i.e., we are propagating only one point,\n",
        "  # then back propagation that single point only. \n",
        "\n",
        "  #here both y_hat and y are assumed to be column vectors\n",
        "\n",
        "  # Initializing the empty dictionary to store the gradients\n",
        "  grad = {}\n",
        "\n",
        "  if loss_type == \"squared_loss\":\n",
        "    grad[\"dh\"+str(len(layer_sizes)-1)] = (y_hat - y)\n",
        "    grad[\"da\"+str(len(layer_sizes)-1)] = (y_hat - y) * softmax_derivative(a[len(layer_sizes)-1])\n",
        "\n",
        "  elif loss_type == 'cross_entropy':\n",
        "    # Here actually it should be one hot vector (As seen in class).\n",
        "    # But y does the same job (since it is also one hot encoded)\n",
        "    grad[\"da\"+str(len(layer_sizes)-1)] = -(y-y_hat)\n",
        "    grad[\"dh\"+str(len(layer_sizes)-1)] = -(y/y_hat)\n",
        "\n",
        "  for i in range(len(layer_sizes)-1, 0, -1 ):\n",
        "    #print(i)\n",
        "    # Not considering L2 Regularization here. Instead will cumulate in the update section\n",
        "    # As referred from the resource pointed in Regularization section.\n",
        "\n",
        "    grad[\"dw\"+str(i)] = np.dot(grad[\"da\"+str(i)], np.transpose(h[i-1]))\n",
        "    grad[\"db\"+str(i)] = grad[\"da\"+str(i)]\n",
        "\n",
        "    #Since we are going backwards, we wont execute these for the final iteration\n",
        "    if i > 1:\n",
        "      grad[\"dh\"+str(i-1)] = np.dot(np.transpose(params[\"w\"+str(i)]), grad[\"da\"+str(i)])\n",
        "      grad[\"da\"+str(i-1)] = np.multiply(grad[\"dh\" + str(i-1)], derivative(a[i-1],activation))\n",
        " \n",
        "  return grad\n",
        "\n"
      ],
      "metadata": {
        "id": "kAQEfBMIFfW0"
      },
      "execution_count": null,
      "outputs": []
    },
    {
      "cell_type": "markdown",
      "source": [
        "<h4>Function to calculate gradients, batchwise</h4>\n",
        "\n",
        "Small function that calculates the gradients for a given batch of points."
      ],
      "metadata": {
        "id": "cYFgtV7ZIOCU"
      }
    },
    {
      "cell_type": "code",
      "source": [
        "def grad_calculate_batchwise(X, Y, parameters, activation, layers, loss_function):\n",
        "\n",
        "  ''' This function is used to calculate the cumulative gradient of the given\n",
        "  batch of points (used for mini batch gradient descent and its variants)\n",
        "\n",
        "  Input is the current batch of data points, corresponding true labels, \n",
        "  parameters of the network, choice of the activation function, overall\n",
        "  architecure of the network and the loss function\n",
        "\n",
        "  Output is the dictionary which has the cumulative gradients collected \n",
        "  for the entire batch of data points. (structure of the dictionary is\n",
        "  same as the parameters dictionary)'''\n",
        "\n",
        "\n",
        "  #Initializing the empty dictionary\n",
        "  grads={}\n",
        "  grads.clear() \n",
        "\n",
        "  #iterate over all the points in the current batch\n",
        "  for j in range(len(X)):\n",
        "\n",
        "    #Reshaping the labels, to get a column vector\n",
        "    y = np.reshape(Y[j], (-1,1))\n",
        "\n",
        "    #Feed forward the data point\n",
        "    h,a,y_hat = forward_prop(X[j], y, parameters, activation, layers)\n",
        "\n",
        "    #backpropagate the error.\n",
        "    new_grads = back_prop(y,y_hat, h,a, parameters, loss_function, layers, activation)\n",
        "\n",
        "    #keep collecting the gradients for all the data\n",
        "    if j == 0:\n",
        "      # if j is 0 means it is the first batch and hence it will be equal to the \n",
        "      # calculated gradients\n",
        "      grads = copy.deepcopy(new_grads)\n",
        "\n",
        "    else:\n",
        "      # For remaining cases, we increment the previous gradient values with the \n",
        "      # current gradient values.\n",
        "      for k in range(len(layers)-1,0,-1):\n",
        "        grads[\"dw\"+str(k)] += new_grads[\"dw\"+str(k)]\n",
        "        grads[\"db\"+str(k)] += new_grads[\"db\"+str(k)]\n",
        "  \n",
        "  return grads"
      ],
      "metadata": {
        "id": "CJXUB3SdINv8"
      },
      "execution_count": null,
      "outputs": []
    },
    {
      "cell_type": "markdown",
      "source": [
        "<h1>3. Different Optimization Functions</h2>"
      ],
      "metadata": {
        "id": "JhnoYTOQ8g9F"
      }
    },
    {
      "cell_type": "markdown",
      "source": [
        "<h3> Mini Batch Gradient Descent </h3>"
      ],
      "metadata": {
        "id": "KKHa2-Fh8lye"
      }
    },
    {
      "cell_type": "markdown",
      "source": [
        "Resources used:<br>\n",
        "https://ruder.io/optimizing-gradient-descent/"
      ],
      "metadata": {
        "id": "Fvl5rGw-5QFI"
      }
    },
    {
      "cell_type": "code",
      "source": [
        "def mini_batch_gd(X_train, y_train, eta, max_epochs, layers, mini_batch_size, lambd, loss_function, activation, parameters,wandb_log=False):\n",
        "  #parameters = nn_init(layers, 'random')\n",
        "\n",
        "  ''' This function is essentially used to start the epochs, collect the gradients,\n",
        "  update the parameters according to the vanilla mini batch gradient descent algorithm.\n",
        "  It also keeps track of the train and validation accuracies for each epoch. Also log\n",
        "  these value into wandb. \n",
        "\n",
        "  wandb_log is a flag. If true, the results are logged onto wandb workspace\n",
        "\n",
        "  Input is training data, true labels for train data, validation data, labels\n",
        "  (used from global context), eta i.e., learning rate, maximum epochs, overall\n",
        "  architecture of the network, mini batch size, lambda for L2 Regularization, \n",
        "  activation funcion, parameters of the network.\n",
        "\n",
        "  Output is the updated paramters (after training), training error and validation\n",
        "  errors lists'''\n",
        "\n",
        "  \n",
        "  # Declaring an empty dicitonary for gradients\n",
        "  grads={}\n",
        "  \n",
        "  # Declaring various lists to store the loss and accuracies\n",
        "  train_errors_list = []\n",
        "  val_errors_list = []\n",
        "  train_acc_list = []\n",
        "  val_acc_list = []\n",
        "\n",
        "  # iterate till max epochs\n",
        "  for t in tqdm(range(max_epochs)):\n",
        "\n",
        "\n",
        "    # iterate over all batches\n",
        "    for i in range(0, len(X_train), mini_batch_size):\n",
        "\n",
        "      grads.clear()\n",
        "\n",
        "      # Divide the data into batches and get the current batch\n",
        "      X = X_train[i:i + mini_batch_size]\n",
        "      Y = y_train[i:i + mini_batch_size]\n",
        "\n",
        "      # Collect the gradients using the current batch of points\n",
        "      grads = grad_calculate_batchwise(X,Y,parameters,activation,layers,loss_function)\n",
        "      \n",
        "    \n",
        "      #Updating the parameters once every one batch\n",
        "      for j in range(len(layers)-1,0,-1):\n",
        "        # Here we have included the L2 Regularization\n",
        "        parameters[\"w\"+str(j)] = (1-((eta*lambd)/mini_batch_size))*parameters[\"w\"+str(j)] - (eta * grads[\"dw\"+str(j)])\n",
        "        parameters[\"b\"+str(j)] = parameters[\"b\"+str(j)] - (eta * grads[\"db\"+str(j)])\n",
        "\n",
        "    #Calculating train loss and accuracies\n",
        "    res = predict(X_train,y_train,parameters, activation, layers)\n",
        "    train_err = loss_calc(loss_function, y_train, res, lambd, layers, parameters )\n",
        "    train_acc = calc_accuracy(res, y_train)\n",
        "    train_errors_list.append(train_err)\n",
        "    train_acc_list.append(train_acc)\n",
        "\n",
        "    #Calculating validation loss\n",
        "    res = predict(X_val, y_val, parameters, activation, layers)\n",
        "    val_err = loss_calc(loss_function, y_val, res, lambd, layers, parameters )\n",
        "    val_acc = calc_accuracy(res,y_val)\n",
        "    val_errors_list.append(val_err)\n",
        "    val_acc_list.append(val_acc)\n",
        "\n",
        "    if(wandb_log==True):\n",
        "      # Logging the values into wandb\n",
        "      log_dict = {\"Train_Accuracy\": train_acc, \"Validation_Accuracy\": val_acc, \\\n",
        "                  \"Train_Loss\": train_err, \"Validation_loss\": val_err, \"epoch\": t}\n",
        "                  \n",
        "      wandb.log(log_dict)\n",
        "\n",
        "  return parameters, train_acc_list, val_acc_list\n"
      ],
      "metadata": {
        "id": "H7a01Svldakv"
      },
      "execution_count": null,
      "outputs": []
    },
    {
      "cell_type": "markdown",
      "source": [
        "<h3> Momentum Based Gradient Descent </h3>"
      ],
      "metadata": {
        "id": "yPiDf0vS8vsO"
      }
    },
    {
      "cell_type": "markdown",
      "source": [
        "Resources used:<br>\n",
        "https://ruder.io/optimizing-gradient-descent/"
      ],
      "metadata": {
        "id": "-PzRbvtX5ORw"
      }
    },
    {
      "cell_type": "code",
      "source": [
        "def momentum_gd(X_train,y_train, eta, max_epochs, layers, mini_batch_size, lambd, loss_function, activation, parameters,wandb_log=False ):\n",
        "  #parameters = nn_init(layers, 'random')\n",
        "\n",
        "  ''' This function is essentially used to start the epochs, collect the gradients,\n",
        "  update the parameters according to the momentum mini batch gradient descent algorithm.\n",
        "  It also keeps track of the train and validation accuracies for each epoch. Also log\n",
        "  these value into wandb. \n",
        "\n",
        "  wandb_log is a flag. If true, the results are logged onto wandb workspace\n",
        "\n",
        "  Input is training data, true labels for train data, validation data, labels\n",
        "  (used from global context), eta i.e., learning rate, maximum epochs, overall\n",
        "  architecture of the network, mini batch size, lambda for L2 Regularization, \n",
        "  activation funcion, parameters of the network.\n",
        "\n",
        "  Output is the updated paramters (after training), training error and validation\n",
        "  errors lists'''\n",
        "  \n",
        "  # Declaring an empty dicitonary for gradients and update history\n",
        "  grads={}\n",
        "  update_history = {}\n",
        "  gamma = 0.9 #Not treating this as a hyperparameter\n",
        "\n",
        "  # Declaring various lists to store the loss and accuracies\n",
        "  train_errors_list = []\n",
        "  val_errors_list = []\n",
        "  train_acc_list = []\n",
        "  val_acc_list = []\n",
        "\n",
        "  # iterate till max epochs\n",
        "  for t in tqdm(range(max_epochs)):\n",
        "\n",
        "\n",
        "    # iterate over all batches\n",
        "    for i in range(0, len(X_train), mini_batch_size):\n",
        "\n",
        "      grads.clear()\n",
        "\n",
        "      # Divide the data into batches and get the current batch\n",
        "      X = X_train[i:i + mini_batch_size]\n",
        "      Y = y_train[i:i + mini_batch_size]\n",
        "      \n",
        "      # Collect the gradients using the current batch of points\n",
        "      grads=grad_calculate_batchwise(X,Y,parameters,activation,layers,loss_function)\n",
        "      \n",
        "      #Storing the update history for each parameter.\n",
        "      if i == 0 :\n",
        "        # If i is 0, then it is the first batch and the update history\n",
        "        # will be equal to the current gradients itself\n",
        "        for j in range(len(layers)-1, 0, -1):\n",
        "          update_history[\"w\"+str(j)] = eta*grads[\"dw\"+str(j)]\n",
        "          update_history[\"b\"+str(j)] = eta*grads[\"db\"+str(j)]\n",
        "      else:\n",
        "        # else we store the update history according to momentum based gd algorihtm\n",
        "        for j in range(len(layers)-1, 0, -1):\n",
        "          update_history[\"w\"+str(j)] = (gamma*update_history[\"w\"+str(j)]) + (eta*grads[\"dw\"+str(j)])\n",
        "          update_history[\"b\"+str(j)] = (gamma*update_history[\"b\"+str(j)]) + (eta*grads[\"db\"+str(j)])\n",
        "\n",
        "    \n",
        "      #Updating the parameters once every one batch with the update_history\n",
        "      for j in range(len(layers)-1,0,-1):\n",
        "        parameters[\"w\"+str(j)] = (1-((eta*lambd)/mini_batch_size))*parameters[\"w\"+str(j)] - update_history[\"w\"+str(j)]\n",
        "        parameters[\"b\"+str(j)] = parameters[\"b\"+str(j)] - update_history[\"b\"+str(j)]\n",
        "\n",
        "    #Calculating train loss and accuracies\n",
        "    res = predict(X_train,y_train,parameters, activation, layers)\n",
        "    train_err = loss_calc(loss_function, y_train, res, lambd, layers, parameters )\n",
        "    train_acc = calc_accuracy(res, y_train)\n",
        "    train_errors_list.append(train_err)\n",
        "    train_acc_list.append(train_acc)\n",
        "\n",
        "    #Calculating validation loss\n",
        "    res = predict(X_val, y_val, parameters, activation, layers)\n",
        "    val_err = loss_calc(loss_function, y_val, res, lambd, layers, parameters )\n",
        "    val_acc = calc_accuracy(res,y_val)\n",
        "    val_errors_list.append(val_err)\n",
        "    val_acc_list.append(val_acc)\n",
        "\n",
        "    if(wandb_log==True):\n",
        "      # Logging the values into wandb\n",
        "      log_dict = {\"Train_Accuracy\": train_acc, \"Validation_Accuracy\": val_acc, \\\n",
        "                  \"Train_Loss\": train_err, \"Validation_loss\": val_err, \"epoch\": t}\n",
        "                  \n",
        "      wandb.log(log_dict)\n",
        "\n",
        "  return parameters, train_acc_list, val_acc_list\n"
      ],
      "metadata": {
        "id": "NHgO8wzQ8-qD"
      },
      "execution_count": null,
      "outputs": []
    },
    {
      "cell_type": "markdown",
      "source": [
        "<h3> Nesterov Accelerated Gradient Descent</h3>"
      ],
      "metadata": {
        "id": "zXL670qB879E"
      }
    },
    {
      "cell_type": "markdown",
      "source": [
        "Resources used:<br>\n",
        "https://ruder.io/optimizing-gradient-descent/"
      ],
      "metadata": {
        "id": "6-vfXwyi5Keh"
      }
    },
    {
      "cell_type": "code",
      "source": [
        "def nesterov_gd(X_train, y_train, eta, max_epochs, layers, mini_batch_size, lambd, loss_function, activation, parameters, wandb_log=False ):\n",
        " \n",
        "  ''' This function is essentially used to start the epochs, collect the gradients,\n",
        "  update the parameters according to the nesterov accelerated mini batch gradient descent algorithm.\n",
        "  It also keeps track of the train and validation accuracies for each epoch. Also log\n",
        "  these value into wandb. \n",
        "\n",
        "  wandb_log is a flag. If true, the results are logged onto wandb workspace\n",
        "\n",
        "  Input is training data, true labels for train data, validation data, labels\n",
        "  (used from global context), eta i.e., learning rate, maximum epochs, overall\n",
        "  architecture of the network, mini batch size, lambda for L2 Regularization, \n",
        "  activation funcion, parameters of the network.\n",
        "\n",
        "  Output is the updated paramters (after training), training error and validation\n",
        "  errors lists'''\n",
        "\n",
        "  # Declaring an empty dicitonary for gradients and update history and lookahead\n",
        "  grads={}\n",
        "  update_history = {}\n",
        "  param_lookahead = {}\n",
        "  gamma = 0.9 #not treating this as a hyperparameter.\n",
        "\n",
        "  # Declaring various lists to store the loss and accuracies\n",
        "  train_errors_list = []\n",
        "  val_errors_list = []\n",
        "  train_acc_list = []\n",
        "  val_acc_list = []\n",
        "\n",
        "  #iterate till max epochs\n",
        "  for t in tqdm(range(max_epochs)):\n",
        "\n",
        "\n",
        "    #iterate over all batches\n",
        "    for i in range(0, len(X_train), mini_batch_size):\n",
        "\n",
        "      grads.clear()\n",
        "\n",
        "      #If it is the first batch, we still dont have the previous history.\n",
        "      #So, lookahead will be same as the current parameters\n",
        "      if i==0:\n",
        "        param_lookahead = copy.deepcopy(parameters)\n",
        "      \n",
        "      #If its not the first batch then we calculate lookahead according to\n",
        "      #the formula.\n",
        "      else:\n",
        "        for j in range(len(layers)-1, 0, -1):\n",
        "          param_lookahead['w'+str(j)] = parameters['w'+str(j)] + (gamma*update_history[\"w\"+str(j)])\n",
        "                                                                  \n",
        "\n",
        "      # Divide the data into batches and get the current batch\n",
        "      X = X_train[i:i + mini_batch_size]\n",
        "      Y = y_train[i:i + mini_batch_size]\n",
        "      \n",
        "      # Collect the gradients using the current batch of points\n",
        "      grads=grad_calculate_batchwise(X,Y,param_lookahead,activation,layers,loss_function)\n",
        "      \n",
        "      # Storing the update history for each parameter.\n",
        "      if i == 0 :\n",
        "        # If its the first batch, we dont have any update history yet. So, it will\n",
        "        # be same as the eta*gradients\n",
        "        for j in range(len(layers)-1, 0, -1):\n",
        "          update_history[\"w\"+str(j)] = eta*grads[\"dw\"+str(j)]\n",
        "          update_history[\"b\"+str(j)] = eta*grads[\"db\"+str(j)]\n",
        "      \n",
        "      # If its not the first batch, we cumulate the update history as per the \n",
        "      # formula.\n",
        "      else:\n",
        "        for j in range(len(layers)-1, 0, -1):\n",
        "          update_history[\"w\"+str(j)] = (gamma*update_history[\"w\"+str(j)]) + (eta*grads[\"dw\"+str(j)])\n",
        "          update_history[\"b\"+str(j)] = (gamma*update_history[\"b\"+str(j)]) + (eta*grads[\"db\"+str(j)])\n",
        "\n",
        "    \n",
        "      #Updating the parameters once every one batch with the update_history\n",
        "      for j in range(len(layers)-1,0,-1):\n",
        "        parameters[\"w\"+str(j)] = (1-((eta*lambd)/mini_batch_size))*parameters[\"w\"+str(j)] - update_history[\"w\"+str(j)]\n",
        "        parameters[\"b\"+str(j)] = parameters[\"b\"+str(j)] - update_history[\"b\"+str(j)]\n",
        "\n",
        "    #Calculating train loss and accuracies\n",
        "    res = predict(X_train,y_train,parameters, activation, layers)\n",
        "    train_err = loss_calc(loss_function, y_train, res, lambd, layers, parameters )\n",
        "    train_acc = calc_accuracy(res, y_train)\n",
        "    train_errors_list.append(train_err)\n",
        "    train_acc_list.append(train_acc)\n",
        "\n",
        "    #Calculating validation loss\n",
        "    res = predict(X_val, y_val, parameters, activation, layers)\n",
        "    val_err = loss_calc(loss_function, y_val, res, lambd, layers, parameters )\n",
        "    val_acc = calc_accuracy(res,y_val)\n",
        "    val_errors_list.append(val_err)\n",
        "    val_acc_list.append(val_acc)\n",
        "\n",
        "    if(wandb_log==True):  \n",
        "      # Logging the values into wandb\n",
        "      log_dict = {\"Train_Accuracy\": train_acc, \"Validation_Accuracy\": val_acc, \\\n",
        "                  \"Train_Loss\": train_err, \"Validation_loss\": val_err, \"epoch\": t}\n",
        "                  \n",
        "      wandb.log(log_dict)\n",
        "\n",
        "  return parameters, train_acc_list, val_acc_list\n"
      ],
      "metadata": {
        "id": "WEglGxnFE3Fg"
      },
      "execution_count": null,
      "outputs": []
    },
    {
      "cell_type": "markdown",
      "source": [
        "<h3> RMSprop</h3>"
      ],
      "metadata": {
        "id": "xNB0DGgD9Ck7"
      }
    },
    {
      "cell_type": "markdown",
      "source": [
        "Resources used: https://towardsdatascience.com/learning-parameters-part-5-65a2f3583f7d"
      ],
      "metadata": {
        "id": "kO2tl8qik3le"
      }
    },
    {
      "cell_type": "code",
      "source": [
        "\n",
        "def rmsprop(X_train,y_train, eta, max_epochs, layers, mini_batch_size, lambd, loss_function, activation, parameters,wandb_log=False ):\n",
        "    \n",
        "  ''' This function is essentially used to start the epochs, collect the gradients,\n",
        "  update the parameters according to the RmsProp mini batch gradient descent algorithm.\n",
        "  It also keeps track of the train and validation accuracies for each epoch. Also log\n",
        "  these value into wandb. \n",
        "\n",
        "  wandb_log is a flag. If true, the results are logged onto wandb workspace\n",
        "\n",
        "  Input is training data, true labels for train data, validation data, labels\n",
        "  (used from global context), eta i.e., learning rate, maximum epochs, overall\n",
        "  architecture of the network, mini batch size, lambda for L2 Regularization, \n",
        "  activation funcion, parameters of the network.\n",
        "\n",
        "  Output is the updated paramters (after training), training error and validation\n",
        "  errors lists'''\n",
        "  \n",
        "  # Declaring an empty dicitonary for gradients and update history \n",
        "  grads={}\n",
        "  update_history = {}\n",
        "  v={}\n",
        "\n",
        "  # Declaring various lists to store the loss and accuracies\n",
        "  train_errors_list = []\n",
        "  val_errors_list = []\n",
        "  train_acc_list = []\n",
        "  val_acc_list = []\n",
        "  \n",
        "  # Initializing update_history with zeros\n",
        "  for i in range(len(layers)-1,0,-1):\n",
        "    update_history[\"w\"+str(i)]=np.zeros((layers[i],layers[i-1]))\n",
        "    update_history[\"b\"+str(i)]=np.zeros((layers[i],1))\n",
        "  # Initializing v with zeros\n",
        "  for i in range(len(layers)-1,0,-1):\n",
        "    v[\"w\"+str(i)]=np.zeros((layers[i],layers[i-1]))\n",
        "    v[\"b\"+str(i)]=np.zeros((layers[i],1))\n",
        "  \n",
        "  beta = 0.9 \n",
        "  epsilon=1e-8\n",
        "\n",
        "  #iterate till max epochs\n",
        "  for t in tqdm(range(max_epochs)):\n",
        "   \n",
        "    #iterate over all batches\n",
        "    for i in range(0, len(X_train), mini_batch_size):\n",
        "      grads.clear()\n",
        "\n",
        "      # Divide the data into batches and get the current batch\n",
        "      X = X_train[i:i + mini_batch_size]\n",
        "      Y = y_train[i:i + mini_batch_size]\n",
        "      \n",
        "      # Collect the gradients using the current batch of points\n",
        "      grads=grad_calculate_batchwise(X,Y,parameters,activation,layers,loss_function)\n",
        "        \n",
        "      # Updating the values if v and the update history using the computed gradients\n",
        "      for iq in range(len(layers)-1,0,-1):\n",
        "        v[\"w\"+str(iq)]=beta*v[\"w\"+str(iq)]+(1-beta)*grads[\"dw\"+str(iq)]**2\n",
        "        v[\"b\"+str(iq)]=beta*v[\"b\"+str(iq)]+(1-beta)*grads[\"db\"+str(iq)]**2\n",
        "          \n",
        "        update_history[\"w\"+str(iq)]=eta*np.multiply(np.reciprocal(np.sqrt(v[\"w\"+str(iq)]+epsilon)),grads[\"dw\"+str(iq)])\n",
        "        update_history[\"b\"+str(iq)]=eta*np.multiply(np.reciprocal(np.sqrt(v[\"b\"+str(iq)]+epsilon)),grads[\"db\"+str(iq)])\n",
        "\n",
        "      #Updating the parameters once every one batch with the update_history\n",
        "      for j in range(len(layers)-1,0,-1):\n",
        "        parameters[\"w\"+str(j)] = (1-((eta*lambd)/mini_batch_size))*parameters[\"w\"+str(j)] - update_history[\"w\"+str(j)]\n",
        "        parameters[\"b\"+str(j)] = parameters[\"b\"+str(j)] - update_history[\"b\"+str(j)]\n",
        "\n",
        "    #Calculating train loss and accuracies\n",
        "    res = predict(X_train,y_train,parameters, activation, layers)\n",
        "    train_err = loss_calc(loss_function, y_train, res, lambd, layers, parameters )\n",
        "    train_acc = calc_accuracy(res, y_train)\n",
        "    train_errors_list.append(train_err)\n",
        "    train_acc_list.append(train_acc)\n",
        "\n",
        "    #Calculating validation loss\n",
        "    res = predict(X_val, y_val, parameters, activation, layers)\n",
        "    val_err = loss_calc(loss_function, y_val, res, lambd, layers, parameters )\n",
        "    val_acc = calc_accuracy(res,y_val)\n",
        "    val_errors_list.append(val_err)\n",
        "    val_acc_list.append(val_acc)\n",
        "\n",
        "    if(wandb_log==True):\n",
        "      # Logging the values into wandb\n",
        "      log_dict = {\"Train_Accuracy\": train_acc, \"Validation_Accuracy\": val_acc, \\\n",
        "                  \"Train_Loss\": train_err, \"Validation_loss\": val_err, \"epoch\": t}\n",
        "                  \n",
        "      wandb.log(log_dict)\n",
        "\n",
        "  return parameters, train_acc_list, val_acc_list\n",
        "\n",
        "\n",
        "\n"
      ],
      "metadata": {
        "id": "22wMGB7d9Cwc"
      },
      "execution_count": null,
      "outputs": []
    },
    {
      "cell_type": "markdown",
      "source": [
        "<h3> Adam </h3>"
      ],
      "metadata": {
        "id": "31e2lLRk9YSU"
      }
    },
    {
      "cell_type": "markdown",
      "source": [
        "Resources used:<br>\n",
        " https://machinelearningmastery.com/adam-optimization-algorithm-for-deep-learning/<br>\n",
        " https://www.geeksforgeeks.org/intuition-of-adam-optimizer/"
      ],
      "metadata": {
        "id": "CwBxwVKr4n7r"
      }
    },
    {
      "cell_type": "code",
      "source": [
        "\n",
        "def adam(X_train,y_train, eta, max_epochs, layers, mini_batch_size, lambd, loss_function, activation, parameters,wandb_log=False ):\n",
        "    \n",
        "  ''' This function is essentially used to start the epochs, collect the gradients,\n",
        "  update the parameters according to the Adam mini batch gradient descent algorithm.\n",
        "  It also keeps track of the train and validation accuracies for each epoch. Also log\n",
        "  these value into wandb. \n",
        "\n",
        "  wandb_log is a flag. If true, the results are logged onto wandb workspace\n",
        "\n",
        "  Input is training data, true labels for train data, validation data, labels\n",
        "  (used from global context), eta i.e., learning rate, maximum epochs, overall\n",
        "  architecture of the network, mini batch size, lambda for L2 Regularization, \n",
        "  activation funcion, parameters of the network.\n",
        "\n",
        "  Output is the updated paramters (after training), training error and validation\n",
        "  errors lists'''\n",
        "  \n",
        "  # Declaring an empty dicitonary for gradients and update history \n",
        "  grads={}\n",
        "  update_history = {}\n",
        "  v={}\n",
        "  m={}\n",
        "\n",
        "  # Declaring various lists to store the loss and accuracies\n",
        "  train_errors_list = []\n",
        "  val_errors_list = []\n",
        "  train_acc_list = []\n",
        "  val_acc_list = []\n",
        "\n",
        "  # Initializing update_history to zeros\n",
        "  for i in range(len(layers)-1,0,-1):\n",
        "    update_history[\"w\"+str(i)]=np.zeros((layers[i],layers[i-1]))\n",
        "    update_history[\"b\"+str(i)]=np.zeros((layers[i],1))\n",
        "  # Initializing m to zeros\n",
        "  for i in range(len(layers)-1,0,-1):\n",
        "    m[\"w\"+str(i)]=np.zeros((layers[i],layers[i-1]))\n",
        "    m[\"b\"+str(i)]=np.zeros((layers[i],1))\n",
        "  # Initializing v to zeros\n",
        "  for i in range(len(layers)-1,0,-1):\n",
        "    v[\"w\"+str(i)]=np.zeros((layers[i],layers[i-1]))\n",
        "    v[\"b\"+str(i)]=np.zeros((layers[i],1))\n",
        "  \n",
        "  beta1 = 0.9 \n",
        "  beta2=0.999\n",
        "  epsilon=1e-8\n",
        "\n",
        "  #iterate till max epochs\n",
        "  for t in tqdm(range(max_epochs)):\n",
        "\n",
        "\n",
        "    #iterate over all batches\n",
        "    for i in range(0, len(X_train), mini_batch_size):\n",
        "      grads.clear()\n",
        "\n",
        "      # Divide the data into batches and get the current batch\n",
        "      X = X_train[i:i + mini_batch_size]\n",
        "      Y = y_train[i:i + mini_batch_size]\n",
        "      \n",
        "      # Collect the gradients using the current batch of points\n",
        "      grads=grad_calculate_batchwise(X,Y,parameters,activation,layers,loss_function)\n",
        "      \n",
        "      # Updating the values of v,m and the update history using the computed gradients\n",
        "      for iq in range(len(layers)-1,0,-1):\n",
        "          m[\"w\"+str(iq)]=beta1*m[\"w\"+str(iq)]+(1-beta1)*grads[\"dw\"+str(iq)]\n",
        "          m[\"b\"+str(iq)]=beta1*m[\"b\"+str(iq)]+(1-beta1)*grads[\"db\"+str(iq)]\n",
        "          \n",
        "          v[\"w\"+str(iq)]=beta2*v[\"w\"+str(iq)]+(1-beta2)*(grads[\"dw\"+str(iq)])**2\n",
        "          v[\"b\"+str(iq)]=beta2*v[\"b\"+str(iq)]+(1-beta2)*(grads[\"db\"+str(iq)])**2\n",
        "\n",
        "          # Bias Correction:\n",
        "          # calculating mt_hat and vt_hat for weights and biases \n",
        "          mw_hat=m[\"w\"+str(iq)]/(1-np.power(beta1,t+1))\n",
        "          mb_hat=m[\"b\"+str(iq)]/(1-np.power(beta1,t+1))\n",
        "\n",
        "          vw_hat=v[\"w\"+str(iq)]/(1-np.power(beta2,t+1))\n",
        "          vb_hat=v[\"b\"+str(iq)]/(1-np.power(beta2,t+1))\n",
        "          \n",
        "          update_history[\"w\"+str(iq)]=eta*np.multiply(np.reciprocal(np.sqrt(vw_hat+epsilon)),mw_hat)\n",
        "          update_history[\"b\"+str(iq)]=eta*np.multiply(np.reciprocal(np.sqrt(vb_hat+epsilon)),mb_hat)\n",
        "\n",
        "      #Updating the parameters once every one batch with the update_history\n",
        "      for j in range(len(layers)-1,0,-1):\n",
        "          parameters[\"w\"+str(j)] = (1-((eta*lambd)/mini_batch_size))*parameters[\"w\"+str(j)] - update_history[\"w\"+str(j)]\n",
        "          parameters[\"b\"+str(j)] = parameters[\"b\"+str(j)] - update_history[\"b\"+str(j)]\n",
        "\n",
        "    #Calculating train loss and accuracies\n",
        "    res = predict(X_train,y_train,parameters, activation, layers)\n",
        "    train_err = loss_calc(loss_function, y_train, res, lambd, layers, parameters )\n",
        "    train_acc = calc_accuracy(res, y_train)\n",
        "    train_errors_list.append(train_err)\n",
        "    train_acc_list.append(train_acc)\n",
        "\n",
        "    #Calculating validation loss\n",
        "    res = predict(X_val, y_val, parameters, activation, layers)\n",
        "    val_err = loss_calc(loss_function, y_val, res, lambd, layers, parameters )\n",
        "    val_acc = calc_accuracy(res,y_val)\n",
        "    val_errors_list.append(val_err)\n",
        "    val_acc_list.append(val_acc)\n",
        "\n",
        "    if(wandb_log==True):\n",
        "      # Logging the values into wandb\n",
        "      log_dict = {\"Train_Accuracy\": train_acc, \"Validation_Accuracy\": val_acc, \\\n",
        "                  \"Train_Loss\": train_err, \"Validation_loss\": val_err, \"epoch\": t}\n",
        "                  \n",
        "      wandb.log(log_dict)\n",
        "\n",
        "  return parameters, train_acc_list, val_acc_list\n",
        "\n",
        "\n",
        "\n",
        "\n"
      ],
      "metadata": {
        "id": "8S6l8vdT9csw"
      },
      "execution_count": null,
      "outputs": []
    },
    {
      "cell_type": "markdown",
      "source": [
        "<h3>NAdam</h3>"
      ],
      "metadata": {
        "id": "wHNnGITB9gvO"
      }
    },
    {
      "cell_type": "markdown",
      "source": [
        "Resources used: <br>\n",
        " https://machinelearningmastery.com/gradient-descent-optimization-with-nadam-from-scratch/ <br>\n",
        "https://ruder.io/optimizing-gradient-descent/ "
      ],
      "metadata": {
        "id": "aiM4Ti3Jnib3"
      }
    },
    {
      "cell_type": "code",
      "source": [
        "\n",
        "\n",
        "def nadam(X_train,y_train, eta, max_epochs, layers, mini_batch_size, lambd, loss_function, activation, parameters,wandb_log=False ):\n",
        "    \n",
        "  ''' This function is essentially used to start the epochs, collect the gradients,\n",
        "  update the parameters according to the NAdam mini batch gradient descent algorithm.\n",
        "  It also keeps track of the train and validation accuracies for each epoch. Also log\n",
        "  these value into wandb. \n",
        "\n",
        "  wandb_log is a flag. If true, the results are logged onto wandb workspace\n",
        "\n",
        "  Input is training data, true labels for train data, validation data, labels\n",
        "  (used from global context), eta i.e., learning rate, maximum epochs, overall\n",
        "  architecture of the network, mini batch size, lambda for L2 Regularization, \n",
        "  activation funcion, parameters of the network.\n",
        "\n",
        "  Output is the updated paramters (after training), training error and validation\n",
        "  errors lists'''\n",
        "\n",
        "  # Declaring an empty dicitonary for gradients and update history \n",
        "  grads={}\n",
        "  update_history = {}\n",
        "  v={}\n",
        "  m={}\n",
        "\n",
        "  # Declaring various lists to store the loss and accuracies\n",
        "  train_errors_list = []\n",
        "  val_errors_list = []\n",
        "  train_acc_list = []\n",
        "  val_acc_list = []\n",
        "  \n",
        "\n",
        "\n",
        "  # Initializing update_history to zeros\n",
        "  for i in range(len(layers)-1,0,-1):\n",
        "    update_history[\"w\"+str(i)]=np.zeros((layers[i],layers[i-1]))\n",
        "    update_history[\"b\"+str(i)]=np.zeros((layers[i],1))\n",
        "  # Initializing m to zeros\n",
        "  for i in range(len(layers)-1,0,-1):\n",
        "    m[\"w\"+str(i)]=np.zeros((layers[i],layers[i-1]))\n",
        "    m[\"b\"+str(i)]=np.zeros((layers[i],1))\n",
        "  # Initializing v to zeros\n",
        "  for i in range(len(layers)-1,0,-1):\n",
        "    v[\"w\"+str(i)]=np.zeros((layers[i],layers[i-1]))\n",
        "    v[\"b\"+str(i)]=np.zeros((layers[i],1))\n",
        "  \n",
        "  beta1 = 0.9 \n",
        "  beta2=0.999\n",
        "  epsilon=1e-8\n",
        "\n",
        "  #iterate till max epochs\n",
        "  for t in tqdm(range(max_epochs)):\n",
        "\n",
        "\n",
        "    #iterate over all batches\n",
        "    for i in range(0, len(X_train), mini_batch_size):\n",
        "\n",
        "      grads.clear()\n",
        "\n",
        "      # Divide the data into batches and get the current batch\n",
        "      X = X_train[i:i + mini_batch_size]\n",
        "      Y = y_train[i:i + mini_batch_size]\n",
        "      \n",
        "      # Collect the gradients using the current batch of points\n",
        "      grads=grad_calculate_batchwise(X,Y,parameters,activation,layers,loss_function)\n",
        " \n",
        "      # Updating the values of v,m and the update history using the computed gradients\n",
        "      for iq in range(len(layers)-1,0,-1):\n",
        "          m[\"w\"+str(iq)]=beta1*m[\"w\"+str(iq)]+(1-beta1)*grads[\"dw\"+str(iq)]\n",
        "          m[\"b\"+str(iq)]=beta1*m[\"b\"+str(iq)]+(1-beta1)*grads[\"db\"+str(iq)]\n",
        "          \n",
        "          v[\"w\"+str(iq)]=beta2*v[\"w\"+str(iq)]+(1-beta2)*(grads[\"dw\"+str(iq)])**2\n",
        "          v[\"b\"+str(iq)]=beta2*v[\"b\"+str(iq)]+(1-beta2)*(grads[\"db\"+str(iq)])**2\n",
        "\n",
        "          # Bias Correction:\n",
        "          # calculating mt_hat and vt_hat for weights and biases \n",
        "          mw_hat=m[\"w\"+str(iq)]/(1-np.power(beta1,t+1))\n",
        "          mb_hat=m[\"b\"+str(iq)]/(1-np.power(beta1,t+1))\n",
        "\n",
        "          vw_hat=v[\"w\"+str(iq)]/(1-np.power(beta2,t+1))\n",
        "          vb_hat=v[\"b\"+str(iq)]/(1-np.power(beta2,t+1))\n",
        "          \n",
        "          update_history[\"w\"+str(iq)]=eta*np.multiply(np.reciprocal(np.sqrt(vw_hat+epsilon)),(beta1*mw_hat+(1-beta1)*grads[\"dw\"+str(iq)]))*(1/(1-np.power(beta1,t+1)))\n",
        "          update_history[\"b\"+str(iq)]=eta*np.multiply(np.reciprocal(np.sqrt(vb_hat+epsilon)),(beta1*mb_hat+(1-beta1)*grads[\"db\"+str(iq)]))*(1/(1-np.power(beta1,t+1)))\n",
        "\n",
        "      #Updating the parameters once every one batch with the update_history\n",
        "      for j in range(len(layers)-1,0,-1):\n",
        "          parameters[\"w\"+str(j)] = (1-((eta*lambd)/mini_batch_size))*parameters[\"w\"+str(j)] - update_history[\"w\"+str(j)]\n",
        "          parameters[\"b\"+str(j)] = parameters[\"b\"+str(j)] - update_history[\"b\"+str(j)]\n",
        "\n",
        "    #Calculating train loss and accuracies\n",
        "    res = predict(X_train,y_train,parameters, activation, layers)\n",
        "    train_err = loss_calc(loss_function, y_train, res, lambd, layers, parameters )\n",
        "    train_acc = calc_accuracy(res, y_train)\n",
        "    train_errors_list.append(train_err)\n",
        "    train_acc_list.append(train_acc)\n",
        "\n",
        "    #Calculating validation loss\n",
        "    res = predict(X_val, y_val, parameters, activation, layers)\n",
        "    val_err = loss_calc(loss_function, y_val, res, lambd, layers, parameters )\n",
        "    val_acc = calc_accuracy(res,y_val)\n",
        "    val_errors_list.append(val_err)\n",
        "    val_acc_list.append(val_acc)\n",
        "\n",
        "    if(wandb_log==True):\n",
        "      # Logging the values into wandb\n",
        "      log_dict = {\"Train_Accuracy\": train_acc, \"Validation_Accuracy\": val_acc, \\\n",
        "                  \"Train_Loss\": train_err, \"Validation_loss\": val_err, \"epoch\": t}\n",
        "                  \n",
        "      wandb.log(log_dict)\n",
        "\n",
        "  \n",
        "\n",
        "\n",
        "  return parameters, train_acc_list, val_acc_list\n",
        "\n",
        "\n",
        "\n"
      ],
      "metadata": {
        "id": "FMxarSbY9ru4"
      },
      "execution_count": null,
      "outputs": []
    },
    {
      "cell_type": "markdown",
      "source": [
        "<h3> Template for adding new Optimization function</h3>\n"
      ],
      "metadata": {
        "id": "-8pCmbDn0cJ6"
      }
    },
    {
      "cell_type": "code",
      "source": [
        "def new_optimization_function_name(X_train, y_train, eta, max_epochs, layers, mini_batch_size, lambd, loss_function, activation, parameters,wandb_log=False ):\n",
        "    \n",
        "  '''This is a template for defining and integrating new optimization\n",
        "  functions in our code'''\n",
        "\n",
        "  # Declaring an empty dicitonary for gradients and update history \n",
        "  grads={}\n",
        "\n",
        "\n",
        "  \n",
        "  '''Declare the dictionaries and other data structures as per\n",
        "  the requirement of the optimization function '''\n",
        "\n",
        "\n",
        "\n",
        "\n",
        "  # Declaring various lists to store the loss and accuracies\n",
        "  train_errors_list = []\n",
        "  val_errors_list = []\n",
        "  train_acc_list = []\n",
        "  val_acc_list = []\n",
        "  \n",
        "\n",
        "\n",
        "\n",
        "  '''Initialize the data structures to appropriate intial values as per\n",
        "  the requirement of the optimization function'''\n",
        "  \n",
        "\n",
        "\n",
        "\n",
        "\n",
        "  #iterate till max epochs\n",
        "  for t in tqdm(range(max_epochs)):\n",
        "\n",
        "\n",
        "    #iterate over all batches\n",
        "    for i in range(0, len(X_train), mini_batch_size):\n",
        "\n",
        "      grads.clear()\n",
        "\n",
        "      # Divide the data into batches and get the current batch\n",
        "      X = X_train[i:i + mini_batch_size]\n",
        "      Y = y_train[i:i + mini_batch_size]\n",
        "      \n",
        "      # Collect the gradients using the current batch of points\n",
        "      grads=grad_calculate_batchwise(X,Y,parameters,activation,layers,loss_function)\n",
        " \n",
        "\n",
        "      #Updating the parameters once every one batch with the update_history\n",
        "      for j in range(len(layers)-1,0,-1):\n",
        "\n",
        "\n",
        "          '''write the paramter update rule for the parameters of the network\n",
        "          as per the requirements of the optimization function'''\n",
        "\n",
        "\n",
        "\n",
        "\n",
        "    #Calculating train loss and accuracies\n",
        "    res = predict(X_train,y_train,parameters, activation, layers)\n",
        "    train_err = loss_calc(loss_function, y_train, res, lambd, layers, parameters )\n",
        "    train_acc = calc_accuracy(res, y_train)\n",
        "    train_errors_list.append(train_err)\n",
        "    train_acc_list.append(train_acc)\n",
        "\n",
        "    #Calculating validation loss\n",
        "    res = predict(X_val, y_val, parameters, activation, layers)\n",
        "    val_err = loss_calc(loss_function, y_val, res, lambd, layers, parameters )\n",
        "    val_acc = calc_accuracy(res,y_val)\n",
        "    val_errors_list.append(val_err)\n",
        "    val_acc_list.append(val_acc)\n",
        "\n",
        "    if(wandb_log==True):\n",
        "      # Logging the values into wandb\n",
        "      log_dict = {\"Train_Accuracy\": train_acc, \"Validation_Accuracy\": val_acc, \\\n",
        "                  \"Train_Loss\": train_err, \"Validation_loss\": val_err, \"epoch\": t}\n",
        "                  \n",
        "      wandb.log(log_dict)\n",
        "\n",
        "  \n",
        "\n",
        "\n",
        "  return parameters, train_acc_list, val_acc_list\n",
        "\n",
        "'''After defining the optimization function, please add the function name in \n",
        "train function if you want to perform hyperparameter sweeps'''"
      ],
      "metadata": {
        "id": "BiTvyXfO0jAH"
      },
      "execution_count": null,
      "outputs": []
    },
    {
      "cell_type": "markdown",
      "source": [
        "<h2>Fit</h2>\n",
        "Function to train the neural network"
      ],
      "metadata": {
        "id": "8Gahdla9-I9b"
      }
    },
    {
      "cell_type": "code",
      "source": [
        "def fit(X_train, y_train, layer_sizes,wandb_log, learning_rate = 0.0001, initialization_type = \"random\", activation_function = \"sigmoid\", loss_function = \"cross_entropy\", mini_batch_Size = 32, max_epochs = 5, lambd = 0,optimization_function = mini_batch_gd): \n",
        "\n",
        "  ''' This function is actually used to run the training process. It first\n",
        "  initializes the network and calls the respective optimization function\n",
        "  to train the model. It also prints the train and validation losses for each\n",
        "  training epoch \n",
        "  \n",
        "  The input is the training data, true labels, overall architecture of the network,\n",
        "  learning rate, initialization type, activation function, loss function, mini \n",
        "  batch size, maximum epochs, lambda for regularization, and the optimization \n",
        "  function to be used \n",
        "  \n",
        "  The output is the trained models parameters'''\n",
        "\n",
        "  parameters = nn_init(init_type = initialization_type, layer_sizes = layer_sizes)\n",
        "  parameters, train_errors_list, val_errors_list = optimization_function(X_train, y_train,learning_rate, max_epochs, layer_sizes, mini_batch_Size, lambd, loss_function, activation_function, parameters,wandb_log)\n",
        "  \n",
        "  print(\"Training Accuracy:\",train_errors_list[-1])\n",
        "  print(\"Validation Accuracy:\",val_errors_list[-1])\n",
        "\n",
        "  return parameters\n",
        "\n",
        "\n"
      ],
      "metadata": {
        "id": "aDYOzjtnt48n"
      },
      "execution_count": null,
      "outputs": []
    },
    {
      "cell_type": "markdown",
      "source": [
        "<h2> Predict </h2>\n",
        "Function to predict the labels after training the model"
      ],
      "metadata": {
        "id": "6LQFPsXT9u15"
      }
    },
    {
      "cell_type": "code",
      "source": [
        "def predict(X ,y,parameters,activation,layer_sizes):\n",
        "\n",
        "  '''This function is used to simply take a models parameters\n",
        "      and run the data points using forward prop, and return the outputs \n",
        "      of all the input data points\n",
        "      \n",
        "      The input is the data points, true labels, parameters of the network,\n",
        "      Choice of the activation function, overall architecture of the network\n",
        "      \n",
        "      The output is the list of all the predicted values for all the data points'''\n",
        "\n",
        "  result = []\n",
        "\n",
        "  #Iterate over all the data points in the given data set\n",
        "  for i in range(len(X)):\n",
        "\n",
        "    #forward propagate the data point\n",
        "    h,a,y_hat = forward_prop(X[i], y[i], parameters, activation, layer_sizes)\n",
        "\n",
        "    #converting y_hat to a 1d array to match with the y\n",
        "    y_hat = y_hat.flatten()\n",
        "\n",
        "    #storing the result into the result list\n",
        "    result.append(y_hat)\n",
        "  \n",
        "  return result\n"
      ],
      "metadata": {
        "id": "OVd1N86DZ06N"
      },
      "execution_count": null,
      "outputs": []
    },
    {
      "cell_type": "markdown",
      "source": [
        "<h1>4. HyperParameter Sweeps</h2>"
      ],
      "metadata": {
        "id": "OYdDzZRu-Si9"
      }
    },
    {
      "cell_type": "markdown",
      "source": [
        "Resources used: <br>\n",
        "https://towardsdatascience.com/hyperparameter-tuning-a-practical-guide-and-template-b3bf0504f095 <br>\n",
        "https://docs.wandb.ai/guides/sweeps "
      ],
      "metadata": {
        "id": "z4DYfrOOHSYo"
      }
    },
    {
      "cell_type": "code",
      "source": [
        "X_train, X_val, X_test, y_train, y_val, y_test, labels = prepare_data()"
      ],
      "metadata": {
        "id": "Hsb7BQqXWN-5",
        "colab": {
          "base_uri": "https://localhost:8080/"
        },
        "outputId": "5cbb3e7e-d73f-48c0-f582-5107f0c82e88"
      },
      "execution_count": null,
      "outputs": [
        {
          "output_type": "stream",
          "name": "stdout",
          "text": [
            "Number of data points in train data (initially) -  60000\n",
            "Number of data points in test data (initially) -  10000\n",
            "Shape of each image - 28x28\n",
            "shape of each image (1D) -  784\n"
          ]
        }
      ]
    },
    {
      "cell_type": "code",
      "source": [
        "def train():\n",
        "\n",
        "  '''This function is used to exploit the wandb hyperparameter sweep \n",
        "  function to get the best hyperparameters.\n",
        "\n",
        "  It takes in no inputs and gives no outputs.\n",
        "  \n",
        "  Instead it logs everything into the wandb workspace'''\n",
        "\n",
        "  #Declaring the dictionary with the default hyperparameters\n",
        "  config_defaults = {\n",
        "      'number_hidden_layers': 2,\n",
        "      'number_neurons': 32,\n",
        "      'learning_rate': 0.001,\n",
        "      'initialization_type': \"xavier\",\n",
        "      'activation_function':'sigmoid',\n",
        "      'mini_batch_size' : 64,\n",
        "      'max_epochs': 5,\n",
        "      'lambd': 0,\n",
        "      'optimization_function': \"adam\"\n",
        "      \n",
        "  }\n",
        "\n",
        "  # Initializing the wandb run\n",
        "  wandb.init(config=config_defaults)\n",
        "  config = wandb.config\n",
        "\n",
        "\n",
        "  # Constructing the layer_sizes i.e., the architecture of our neural network\n",
        "  layer_sizes = [784]\n",
        "  for i in range(config.number_hidden_layers):\n",
        "    layer_sizes = layer_sizes + [config.number_neurons]\n",
        "  layer_sizes  = layer_sizes + [10]\n",
        "\n",
        "  #Collecting all the hyperparameters from the wandb run\n",
        "  learning_rate = config.learning_rate\n",
        "  initialization_type = config.initialization_type\n",
        "  activation_function = config.activation_function\n",
        "  loss_function = \"cross_entropy\"\n",
        "  mini_batch_size = config.mini_batch_size\n",
        "  max_epochs = config.max_epochs\n",
        "  lambd = config.lambd\n",
        "  opt_fun = config.optimization_function\n",
        "\n",
        "  #Calling the respective hyperparameters\n",
        "  if opt_fun == \"adam\":\n",
        "    optimization_function = adam\n",
        "  elif opt_fun == \"nadam\":\n",
        "    optimization_function = nadam\n",
        "  elif opt_fun == \"mini_batch_gd\":\n",
        "    optimization_function = mini_batch_gd\n",
        "  elif opt_fun == \"momentum_gd\":\n",
        "    optimization_function = momentum_gd\n",
        "  elif opt_fun == \"nesterov_gd\":\n",
        "    optimization_function = nesterov_gd\n",
        "  elif opt_fun == \"rmsprop\":\n",
        "    optimization_function = rmsprop\n",
        "  else:\n",
        "    print(\"Wrong optimization function\")\n",
        "    exit()\n",
        "\n",
        "\n",
        "  #Forming meaningful run name using the hyperparameters\n",
        "  name_run = str(learning_rate) + \"_\" + initialization_type[0] + \"_\" + \\\n",
        "  activation_function[0] + \"_\" + str(mini_batch_size) + \"_\" + str(max_epochs) + \\\n",
        "  \"_\" + str(lambd) + \"_\" + opt_fun[:4]\n",
        "\n",
        "  wandb.run.name = name_run\n",
        "  wandb_log=True\n",
        "  #Calling the fit function to train the neural network with the current hyperparameters\n",
        "  parameters = fit(X_train, y_train, layer_sizes,wandb_log, learning_rate, initialization_type, activation_function, loss_function, mini_batch_size, max_epochs, lambd, optimization_function)\n",
        "\n",
        "  \n",
        "  wandb.run.save()\n",
        "  wandb.run.finish()\n",
        "\n",
        "\n"
      ],
      "metadata": {
        "id": "bLaUCuD_Jsxv"
      },
      "execution_count": null,
      "outputs": []
    },
    {
      "cell_type": "code",
      "source": [
        "def sweeper(entity_name,project_name):\n",
        "  #Declaring the dictionary of all choices for the hyperparameters.\n",
        "  hyperparameters = {\n",
        "      \"learning_rate\":{\n",
        "        'values': [0.001, 0.0001]\n",
        "      },\n",
        "\n",
        "      \"number_hidden_layers\": {\n",
        "          'values' : [3, 4, 5]\n",
        "      },\n",
        "\n",
        "      \"number_neurons\": {\n",
        "        'values': [32, 64, 128]\n",
        "      },\n",
        "\n",
        "      \"initialization_type\": {\n",
        "          'values' : [\"xavier\", \"random\"]\n",
        "      },\n",
        "\n",
        "      \"activation_function\": {\n",
        "          'values': [\"sigmoid\", \"tanh\", \"relu\"]\n",
        "      },\n",
        "\n",
        "      \"mini_batch_size\": {\n",
        "          'values': [16,32,64,128]\n",
        "      },\n",
        "\n",
        "      \"max_epochs\": {\n",
        "          'values': [5, 10, 20]\n",
        "      },\n",
        "\n",
        "      \"lambd\": {\n",
        "          'values': [0, 0.0005, 0.5]\n",
        "      },\n",
        "\n",
        "      \"optimization_function\": {\n",
        "          'values': [\"mini_batch_gd\", \"momentum_gd\", \"nesterov_gd\", \"rmsprop\", \"adam\", \"nadam\"]\n",
        "      }\n",
        "\n",
        "  }\n",
        "\n",
        "\n",
        "  #Using bayes method for hyperparameter sweeps to curb the unnecessary configurations\n",
        "  sweep_config = {\n",
        "      'method' : 'bayes',\n",
        "      'metric' :{\n",
        "          'name': 'Validation_Accuracy',\n",
        "          'goal': 'maximize'\n",
        "      },\n",
        "      'parameters': hyperparameters\n",
        "  }\n",
        "\n",
        "  sweep_id = wandb.sweep(sweep_config, entity=entity_name, project=project_name)\n",
        "  wandb.agent(sweep_id, train)"
      ],
      "metadata": {
        "id": "JBZOwcGOip9K"
      },
      "execution_count": null,
      "outputs": []
    },
    {
      "cell_type": "code",
      "source": [
        "sweeper(entity_name,project_name)"
      ],
      "metadata": {
        "id": "CPV1eT1ZpN1v"
      },
      "execution_count": null,
      "outputs": []
    },
    {
      "cell_type": "markdown",
      "source": [
        "<h1>7. Confusion Matrix for Test Dataset"
      ],
      "metadata": {
        "id": "2CrEVrWQPbwm"
      }
    },
    {
      "cell_type": "markdown",
      "source": [
        "From the above experiments, we have chosen the best configuration of hyperparameters and executed the prediction using the test data to finally evaluate the model.<br> <br>\n",
        "We have plotted the confusion matrix to get a clear picture of how the model is performing."
      ],
      "metadata": {
        "id": "FDYpsB3Juu7I"
      }
    },
    {
      "cell_type": "markdown",
      "source": [
        "Resources used: https://medium.com/@dtuk81/confusion-matrix-visualization-fc31e3f30fea"
      ],
      "metadata": {
        "id": "5NJXD4lIH2Z8"
      }
    },
    {
      "cell_type": "code",
      "source": [
        "def plot_confmat_wandb(entity_name,project_name):\n",
        "    # NOTE: Change these values according to the observations\n",
        "    # made from the parallel coordinate plot from wandb.ai. These are the best \n",
        "    # hyperparameters as observed.\n",
        "    \n",
        "  config_final_test = {\n",
        "        'number_hidden_layers': 5,\n",
        "        'number_neurons': 128,\n",
        "        'learning_rate': 0.0001,\n",
        "        'initialization_type': \"xavier\",\n",
        "        'activation_function':'relu',\n",
        "        'mini_batch_size' : 32,\n",
        "        'max_epochs': 20,\n",
        "        'lambd': 0.0005,\n",
        "        'optimization_function': \"nadam\",\n",
        "        'loss_function': \"cross_entropy\"\n",
        "        \n",
        "  }\n",
        "\n",
        "  #initializing the run\n",
        "  wandb.init(config=config_final_test, project = project_name, entity=entity_name)\n",
        "  config = wandb.config\n",
        "\n",
        "\n",
        "  #Forming the layer_sizes i.e., the architecture of our neural network\n",
        "  layer_sizes = [784]\n",
        "  for i in range(config.number_hidden_layers):\n",
        "      layer_sizes = layer_sizes + [config.number_neurons]\n",
        "  layer_sizes  = layer_sizes + [10]\n",
        "\n",
        "  #storing the hyperparameters in local variables\n",
        "  learning_rate = config.learning_rate\n",
        "  initialization_type = config.initialization_type\n",
        "  activation_function = config.activation_function\n",
        "  loss_function = config.loss_function\n",
        "  mini_batch_size = config.mini_batch_size\n",
        "  max_epochs = config.max_epochs\n",
        "  lambd = config.lambd\n",
        "  opt_fun = config.optimization_function\n",
        "\n",
        "  #Choosing the correct optimization function\n",
        "  if opt_fun == \"adam\":\n",
        "      optimization_function = adam\n",
        "  elif opt_fun == \"nadam\":\n",
        "      optimization_function = nadam\n",
        "  elif opt_fun == \"mini_batch_gd\":\n",
        "      optimization_function = mini_batch_gd\n",
        "  elif opt_fun == \"momentum_gd\":\n",
        "      optimization_function = momentum_gd\n",
        "  elif opt_fun == \"nesterov_gd\":\n",
        "      optimization_function = nesterov_gd\n",
        "  elif opt_fun == \"rmsprop\":\n",
        "      optimization_function = rmsprop\n",
        "  else:\n",
        "      print(\"Wrong optimization function\")\n",
        "      exit()\n",
        "\n",
        "  #set this to TRUE to log the data to wandb\n",
        "  wandb_log=True\n",
        "\n",
        "  #calling the fit function to train the model using the best hyperparamters obtained from above\n",
        "  parameters_for_test = fit(X_train, y_train, layer_sizes,wandb_log, learning_rate, initialization_type, activation_function, loss_function, mini_batch_size, max_epochs, lambd, optimization_function)\n",
        "  res = predict(X_test,y_test, parameters_for_test, activation_function, layer_sizes)\n",
        "    \n",
        "  wandb.run.name = \"Confusion Matrix\"\n",
        "\n",
        "  # Converting the one hot encoded vectors back to label_id's\n",
        "  y_t=[]\n",
        "  for k in range(len(y_test)):\n",
        "      y_t.append(y_test[k].argmax())\n",
        "\n",
        "  y_pred=[]\n",
        "  for k in range(len(res)):\n",
        "      y_pred.append(res[k].argmax())\n",
        "\n",
        "  #calculating the test accuracy using the test data\n",
        "  test_accuracy=calc_test_accuracy(y_pred,y_t)\n",
        "  print(test_accuracy)\n",
        "  wandb.log({\"conf_mat\":wandb.plot.confusion_matrix(preds=y_pred,y_true=y_t,class_names=labels),\"Test Accuracy\": test_accuracy}) \n",
        "    \n",
        "\n",
        "  wandb.run.save()\n",
        "  wandb.run.finish()\n",
        "\n",
        "  return y_pred,y_t\n",
        "    "
      ],
      "metadata": {
        "id": "ADKEbRF9qGDX"
      },
      "execution_count": null,
      "outputs": []
    },
    {
      "cell_type": "code",
      "source": [
        "y_pred,y_t=plot_confmat_wandb(entity_name,project_name)"
      ],
      "metadata": {
        "id": "urk4FqnL9a-N"
      },
      "execution_count": null,
      "outputs": []
    },
    {
      "cell_type": "code",
      "source": [
        "def plot_local_confmat(y_true,y_pred):\n",
        "  labs=np.unique(y_true)\n",
        "  cmat=np.zeros((len(labs),len(labs)))\n",
        "\n",
        "  for i in range(len(labs)):\n",
        "    for j in range(len(labs)):\n",
        "      cmat[i,j]=np.sum((y_true==labs[i])&(y_pred==labs[j]))\n",
        "  fig, ax = plt.subplots(figsize=(10,10))\n",
        "  ax.set_title(\"Confusion matrix for Test dataset\")\n",
        "  sn.heatmap(cmat,annot=True,xticklabels=labels,yticklabels=labels)\n",
        "  plt.show()\n"
      ],
      "metadata": {
        "id": "RtPhg15lqF_v"
      },
      "execution_count": null,
      "outputs": []
    },
    {
      "cell_type": "code",
      "source": [
        "plot_local_confmat(y_t, y_pred)"
      ],
      "metadata": {
        "id": "u8xg8pCZQ76m",
        "colab": {
          "base_uri": "https://localhost:8080/",
          "height": 607
        },
        "outputId": "60552ee6-a81b-43ed-e2f6-d5402180a45b"
      },
      "execution_count": null,
      "outputs": [
        {
          "output_type": "display_data",
          "data": {
            "image/png": "[encoded data removed]",
            "text/plain": [
              "<Figure size 720x720 with 2 Axes>"
            ]
          },
          "metadata": {
            "needs_background": "light"
          }
        }
      ]
    },
    {
      "cell_type": "markdown",
      "source": [
        "<h1>8. Comparing Squared loss and Cross Entropy loss</h1>\n"
      ],
      "metadata": {
        "id": "xVJ98-swLSTo"
      }
    },
    {
      "cell_type": "markdown",
      "source": [
        "Here we are trying to compare which loss function is better i.e., cross entropy loss or squared loss.<br> <br>\n",
        "We again run a hyperparameter sweep but this time also including loss function as one of the hyperparameters. Using this we can easily compare both the loss functions at once and arrive at a correct decision.<br> <br>\n",
        "\n",
        "We have not used \"bayes\" method here and preferred \"random\" method because \"bayes\" method is kindof heuristic and will slowly stop using the loss function that is not performing well."
      ],
      "metadata": {
        "id": "NMUc5jqAtwOL"
      }
    },
    {
      "cell_type": "code",
      "source": [
        "def compare():\n",
        "\n",
        "  '''This function is used to exploit the wandb hyperparameter sweep \n",
        "  function to get the best hyperparameters.\n",
        "\n",
        "  This is used to compare the two loss functions. Its same as the previous code\n",
        "  but with added loss functions as hyperparameters.\n",
        "\n",
        "  It takes in no inputs and gives no outputs.\n",
        "  \n",
        "  Instead it logs everything into the wandb workspace'''\n",
        "\n",
        "  config_defaults = {\n",
        "      'number_hidden_layers': 2,\n",
        "      'number_neurons': 32,\n",
        "      'learning_rate': 0.001,\n",
        "      'initialization_type': \"xavier\",\n",
        "      'activation_function':'sigmoid',\n",
        "      'mini_batch_size' : 64,\n",
        "      'max_epochs': 5,\n",
        "      'lambd': 0,\n",
        "      'optimization_function': \"adam\",\n",
        "      'loss_function': \"cross_entropy\"\n",
        "      \n",
        "  }\n",
        "\n",
        "  wandb.init(config=config_defaults)\n",
        "  config = wandb.config\n",
        "\n",
        "\n",
        "  #Forming the layer_sizes i.e., the architecture of our neural network\n",
        "  layer_sizes = [784]\n",
        "  for i in range(config.number_hidden_layers):\n",
        "    layer_sizes = layer_sizes + [config.number_neurons]\n",
        "  layer_sizes  = layer_sizes + [10]\n",
        "\n",
        "  #Collecting all the hyperparameters from the wandb run\n",
        "  learning_rate = config.learning_rate\n",
        "  initialization_type = config.initialization_type\n",
        "  activation_function = config.activation_function\n",
        "  loss_function = config.loss_function\n",
        "  mini_batch_size = config.mini_batch_size\n",
        "  max_epochs = config.max_epochs\n",
        "  lambd = config.lambd\n",
        "  opt_fun = config.optimization_function\n",
        "\n",
        "  #Calling the respective hyperparameters\n",
        "  if opt_fun == \"adam\":\n",
        "    optimization_function = adam\n",
        "  elif opt_fun == \"nadam\":\n",
        "    optimization_function = nadam\n",
        "  elif opt_fun == \"mini_batch_gd\":\n",
        "    optimization_function = mini_batch_gd\n",
        "  elif opt_fun == \"momentum_gd\":\n",
        "    optimization_function = momentum_gd\n",
        "  elif opt_fun == \"nesterov_gd\":\n",
        "    optimization_function = nesterov_gd\n",
        "  elif opt_fun == \"rmsprop\":\n",
        "    optimization_function = rmsprop\n",
        "  else:\n",
        "    print(\"Wrong optimization function\")\n",
        "    exit()\n",
        "\n",
        "  #Forming meaningful run name using the hyperparameters\n",
        "\n",
        "  name_run = str(learning_rate) + \"_\" + initialization_type[0] + \"_\" + \\\n",
        "  activation_function[0] + \"_\" + str(mini_batch_size) + \"_\" + str(max_epochs) + \\\n",
        "  \"_\" + str(lambd) + \"_\" + opt_fun[:4]\n",
        "\n",
        "  wandb.run.name = name_run\n",
        "  wandb_log=True\n",
        "  #Calling the fit function to train the neural network with the current hyperparameters\n",
        "  parameters = fit(X_train, y_train, layer_sizes,wandb_log, learning_rate, initialization_type, activation_function, loss_function, mini_batch_size, max_epochs, lambd, optimization_function)\n",
        "\n",
        "  \n",
        "  wandb.run.save()\n",
        "  wandb.run.finish()"
      ],
      "metadata": {
        "id": "ZhrLpiWRqGOT"
      },
      "execution_count": null,
      "outputs": []
    },
    {
      "cell_type": "code",
      "source": [
        "def loss_compare_sweeper(entity_name,project_name):\n",
        "  #Declaring the dictionary of all choices for the hyperparameters.\n",
        "  hyperparameters = {\n",
        "      \"learning_rate\":{\n",
        "        'values': [0.001, 0.0001]\n",
        "      },\n",
        "\n",
        "      \"number_hidden_layers\": {\n",
        "          'values' : [3, 4, 5]\n",
        "      },\n",
        "\n",
        "      \"number_neurons\": {\n",
        "        'values': [32, 64, 128]\n",
        "      },\n",
        "\n",
        "      \"initialization_type\": {\n",
        "          'values' : [\"xavier\", \"random\"]\n",
        "      },\n",
        "\n",
        "      \"activation_function\": {\n",
        "          'values': [\"sigmoid\", \"tanh\", \"relu\"]\n",
        "      },\n",
        "\n",
        "      \"mini_batch_size\": {\n",
        "          'values': [16,32,64]\n",
        "      },\n",
        "\n",
        "      \"max_epochs\": {\n",
        "          'values': [5, 10, 15]\n",
        "      },\n",
        "\n",
        "      \"lambd\": {\n",
        "          'values': [0, 0.0005, 0.5]\n",
        "      },\n",
        "\n",
        "      \"optimization_function\": {\n",
        "          'values': [\"mini_batch_gd\", \"momentum_gd\", \"nesterov_gd\", \"rmsprop\", \"adam\", \"nadam\"]\n",
        "      },\n",
        "\n",
        "      \"loss_function\": {\n",
        "          'values': [\"cross_entropy\", \"squared_loss\"]\n",
        "      }\n",
        "\n",
        "\n",
        "  }\n",
        "\n",
        "\n",
        "  #Using random method for hyperparameter sweeps \n",
        "  sweep_config = {\n",
        "      'method' : 'random',\n",
        "      'metric' :{\n",
        "          'name': 'Validation_Accuracy',\n",
        "          'goal': 'maximize'\n",
        "      },\n",
        "      'parameters': hyperparameters\n",
        "  }\n",
        "  sweep_id = wandb.sweep(sweep_config, entity=entity_name,project=project_name)\n",
        "  wandb.agent(sweep_id, compare, count = 50)"
      ],
      "metadata": {
        "id": "1QeeVSeeqGLm"
      },
      "execution_count": null,
      "outputs": []
    },
    {
      "cell_type": "code",
      "source": [
        "loss_compare_sweeper(entity_name,project_name)"
      ],
      "metadata": {
        "id": "EYOmvodmqGI4"
      },
      "execution_count": null,
      "outputs": []
    },
    {
      "cell_type": "markdown",
      "source": [
        "<h1>10. MNIST Trials </h1>"
      ],
      "metadata": {
        "id": "8bmuT3iRPsCg"
      }
    },
    {
      "cell_type": "markdown",
      "source": [
        "The MNIST database (Modified National Institute of Standards and Technology database) is a large database of handwritten digits that is commonly used for training various image processing systems. It contains 60,000 training images and 10,000 testing images. Each image is of the size 28*28 pixels.<br>\n",
        "Source: https://en.wikipedia.org/wiki/MNIST_database\n",
        "<br> <br>\n",
        "We are using the hyperparameters tuned for the Fashion-MNIST dataset and trying to build models to recognize the handwritten digits of the MNIST Dataset. <br>\n",
        "The main aim is to check whether the learnings from one image classification task can be applied to another task or not."
      ],
      "metadata": {
        "id": "OrZmMTzMm81x"
      }
    },
    {
      "cell_type": "code",
      "source": [
        "from sklearn.model_selection import train_test_split\n",
        "from keras.datasets import mnist\n",
        "#sklearn library is used only for train test validation split\n",
        "\n",
        "\n",
        "def prepare_data_mnist():\n",
        "\n",
        "  '''This function is used to load the data, define the class labels, performing\n",
        "      the train-test-validation split, normalizing the data, flattening each data\n",
        "      point, converting the class labels to one hot encoded vector.\n",
        "\n",
        "      It return all the split data sets '''\n",
        "\n",
        "  # Loading data from online source\n",
        "  (train_x,train_y),(test_x,test_y)=mnist.load_data()\n",
        "\n",
        "  # Defining labels for data\n",
        "  num_classes = 10\n",
        "  labels=[i for i in range(10)]\n",
        "\n",
        "  print(\"Number of data points in train data (initially) - \", len(train_x))\n",
        "  print(\"Number of data points in test data (initially) - \", len(test_x))\n",
        "\n",
        "  #performing the train-validation split\n",
        "  train_x, val_x, train_y, val_y = train_test_split(train_x, train_y, test_size=0.1, random_state=40)\n",
        "  print(\"Shape of each image - 28x28\" )\n",
        "  image_shape=train_x.shape[1]*train_x.shape[2]\n",
        "  print(\"shape of each image (1D) - \",image_shape)\n",
        "\n",
        "  #storing the number of points in each set\n",
        "  train_image_count=len(train_x)\n",
        "  val_image_count = len(val_x)\n",
        "  test_image_count=len(test_x)\n",
        "\n",
        "  # Creating a matrix of image data \n",
        "  # each image is represented as a row by flattening the matrix: converting (60000,28,28) tensor to (60000,784) matrix\n",
        "  X_train=np.zeros((train_image_count,image_shape))\n",
        "  X_val=np.zeros((val_image_count,image_shape))\n",
        "  X_test=np.zeros((test_image_count,image_shape))\n",
        "\n",
        "  # converting the images into grayscale by normalizing\n",
        "  for i in range(train_image_count):\n",
        "    X_train[i]=(copy.deepcopy(train_x[i].flatten()))/255.0 \n",
        "  for i in range(val_image_count):\n",
        "    X_val[i]=(copy.deepcopy(val_x[i].flatten()))/255.0\n",
        "  for i in range(test_image_count):\n",
        "    X_test[i]=(copy.deepcopy(test_x[i].flatten()))/255.0\n",
        "    \n",
        "  #One hot encoding the label vectors to represent a probability distribution\n",
        "  y_train = np.zeros((train_y.size, 10))\n",
        "  y_train[np.arange(train_y.size), train_y] = 1\n",
        "\n",
        "  y_val = np.zeros((val_y.size, 10))\n",
        "  y_val[np.arange(val_y.size), val_y] = 1\n",
        "\n",
        "  y_test = np.zeros((test_y.size, 10))\n",
        "  y_test[np.arange(test_y.size), test_y] = 1\n",
        "\n",
        "  \n",
        "\n",
        "  #returning all the datasets along with the labels\n",
        "  return X_train,X_val,X_test,y_train,y_val,y_test,labels\n",
        "  "
      ],
      "metadata": {
        "id": "80Ftpn6ojN_J"
      },
      "execution_count": null,
      "outputs": []
    },
    {
      "cell_type": "code",
      "source": [
        "X_train, X_val, X_test, y_train, y_val, y_test, lab = prepare_data_mnist()"
      ],
      "metadata": {
        "id": "7hNoGpvKgUkI",
        "colab": {
          "base_uri": "https://localhost:8080/"
        },
        "outputId": "f3c57a36-2b48-4a8f-89f9-6692b666b213"
      },
      "execution_count": null,
      "outputs": [
        {
          "output_type": "stream",
          "name": "stdout",
          "text": [
            "Number of data points in train data (initially) -  60000\n",
            "Number of data points in test data (initially) -  10000\n",
            "Shape of each image - 28x28\n",
            "shape of each image (1D) -  784\n"
          ]
        }
      ]
    },
    {
      "cell_type": "code",
      "source": [
        "def custom_config_mnist(mnist_config,wandb_log, config_number):\n",
        "\n",
        "  '''This function is used to train the neural network for the given hyperparameter\n",
        "  configuration and also evaluate the model finally logging the results onto \n",
        "  Wandb.\n",
        "\n",
        "  We have essentially used three hyperparameter configurations that were chosen\n",
        "  after thorough exploration from the Fashion MNIST dataset.'''\n",
        "\n",
        "\n",
        "  #Forming the network archtecture and storing it in the list.\n",
        "  num_layers=mnist_config[\"number_hidden_layers\"]\n",
        "  neurons=mnist_config[\"number_neurons\"]\n",
        "  layer_sizes = [784]\n",
        "  for i in range(num_layers):\n",
        "    layer_sizes = layer_sizes + [neurons]\n",
        "  layer_sizes  = layer_sizes + [10]\n",
        "  \n",
        "  # For local testing purposes, wandb_log is set to False. Then it doesnt log the\n",
        "  # results to the wandb workspace. Instead it prints here.\n",
        "  if (wandb_log== True):\n",
        "      #initializing the run\n",
        "      wandb.init(config=mnist_config, project = project_name, entity=entity_name)\n",
        "      config = wandb.config\n",
        "      #storing the hyperparameters in local variables\n",
        "      opt_fun = config.optimization_function\n",
        "\n",
        "      #Choosing the correct optimization function\n",
        "      if opt_fun == \"adam\":\n",
        "          optimization_function = adam\n",
        "      elif opt_fun == \"nadam\":\n",
        "          optimization_function = nadam\n",
        "      elif opt_fun == \"mini_batch_gd\":\n",
        "          optimization_function = mini_batch_gd\n",
        "      elif opt_fun == \"momentum_gd\":\n",
        "          optimization_function = momentum_gd\n",
        "      elif opt_fun == \"nesterov_gd\":\n",
        "          optimization_function = nesterov_gd\n",
        "      elif opt_fun == \"rmsprop\":\n",
        "          optimization_function = rmsprop\n",
        "      else:\n",
        "          print(\"Wrong optimization function\")\n",
        "          exit()\n",
        "\n",
        "      wandb.run.name = \"Mnist_Config_\"+str(config_number)\n",
        "\n",
        "      #calling the fit function to train the model using the best hyperparamters obtained from above\n",
        "      parameters = fit(X_train, y_train, layer_sizes,wandb_log, \n",
        "                     mnist_config[\"learning_rate\"],\n",
        "                     mnist_config[\"weight_type\"], \n",
        "                     mnist_config[\"activation_function\"], \n",
        "                     mnist_config[\"loss_function\"],\n",
        "                     mnist_config[\"mini_batch_size\"],\n",
        "                     mnist_config[\"max_epochs\"], \n",
        "                     mnist_config[\"lambd\"],\n",
        "                     optimization_function)\n",
        "      res = predict(X_test,y_test,parameters, mnist_config[\"activation_function\"], layer_sizes)\n",
        "        # Converting the one hot encoded vectors back to label_id's\n",
        "      y_t=[]\n",
        "      for k in range(len(y_test)):\n",
        "          y_t.append(y_test[k].argmax())\n",
        "\n",
        "      y_pred=[]\n",
        "      for k in range(len(res)):\n",
        "          y_pred.append(res[k].argmax())\n",
        "\n",
        "      #calculating the test accuracy using the test data\n",
        "      test_accuracy=calc_test_accuracy(y_pred,y_t)\n",
        "      print(\"Test accuracy:\",test_accuracy)\n",
        "\n",
        "      wandb.log({\"conf_mat\":wandb.plot.confusion_matrix(preds=y_pred,y_true=y_t,class_names=labels),\"Test Accuracy\": test_accuracy})\n",
        "\n",
        "      wandb.run.save()\n",
        "      wandb.run.finish()\n",
        "\n",
        "  else:\n",
        "    #Forming the layer_sizes i.e., the architecture of our neural network\n",
        "      optimizer=mnist_config[\"optimization_function\"]\n",
        "      \n",
        "      if optimizer == \"adam\":\n",
        "          opti = adam\n",
        "      elif optimizer == \"nadam\":\n",
        "          opti = nadam\n",
        "      elif optimizer == \"mini_batch_gd\":\n",
        "          opti = mini_batch_gd\n",
        "      elif optimizer == \"momentum_gd\":\n",
        "          opti = momentum_gd\n",
        "      elif optimizer == \"nesterov_gd\":\n",
        "          opti = nesterov_gd\n",
        "      elif optimizer == \"rmsprop\":\n",
        "          opti = rmsprop\n",
        "      else:\n",
        "          print(\"Wrong optimization function\")\n",
        "          exit()\n",
        "\n",
        "      parameters = fit(X_train, y_train, layer_sizes,wandb_log, \n",
        "                     mnist_config[\"learning_rate\"],\n",
        "                     mnist_config[\"weight_type\"], \n",
        "                     mnist_config[\"activation_function\"], \n",
        "                     mnist_config[\"loss_function\"],\n",
        "                     mnist_config[\"mini_batch_size\"],\n",
        "                     mnist_config[\"max_epochs\"], \n",
        "                     mnist_config[\"lambd\"],\n",
        "                     opti)\n",
        "      res = predict(X_test,y_test,parameters, mnist_config[\"activation_function\"], layer_sizes)\n",
        "\n",
        "      y_t=[]\n",
        "      for k in range(len(y_test)):\n",
        "          y_t.append(y_test[k].argmax())\n",
        "\n",
        "      y_pred=[]\n",
        "      for k in range(len(res)):\n",
        "          y_pred.append(res[k].argmax())\n",
        "\n",
        "      #calculating the test accuracy using the test data\n",
        "      test_accuracy=calc_test_accuracy(y_pred,y_t)\n",
        "      print(\"Test accuracy:\",test_accuracy)\n",
        "\n",
        "    "
      ],
      "metadata": {
        "id": "psktG5UNjQKf"
      },
      "execution_count": null,
      "outputs": []
    },
    {
      "cell_type": "markdown",
      "source": [
        "<h4> Configuration 1</h4>"
      ],
      "metadata": {
        "id": "E2YVptJHpOl5"
      }
    },
    {
      "cell_type": "code",
      "source": [
        "# Change these values to get the required configuration's result\n",
        "\n",
        "config1 = {\n",
        "            'number_hidden_layers': 5,\n",
        "            'number_neurons': 128,\n",
        "            'learning_rate': 0.0001,\n",
        "            'weight_type': \"xavier\",\n",
        "            'activation_function':\"relu\",\n",
        "            'mini_batch_size' : 16,\n",
        "            'max_epochs': 20,\n",
        "            'lambd': 0.0005,\n",
        "            'optimization_function': \"nadam\",\n",
        "            'loss_function': \"cross_entropy\"\n",
        "              }"
      ],
      "metadata": {
        "id": "tXuA9vdb4b6P"
      },
      "execution_count": null,
      "outputs": []
    },
    {
      "cell_type": "code",
      "source": [
        "custom_config_mnist(config1, True, 1)"
      ],
      "metadata": {
        "id": "Na1QqZSq4eFO",
        "colab": {
          "base_uri": "https://localhost:8080/",
          "height": 479,
          "referenced_widgets": [
            "2174ec287cf94766bdb9a31f09518eae",
            "6940ffb31b3b4b9f8f62238e7d15df72",
            "7237b35791904be7b4c395147ab0756f",
            "d0ba154ada2140099d67ae877344092a",
            "c70e5b0abd514e9b966dec3f68e13781",
            "aaba43fc77644fec9fc9e6a0900c91dc",
            "a63045e0e64643299d8dcb23deed14e8",
            "f547356504af48eb887c8e3ca132a183"
          ]
        },
        "outputId": "b8b08f8f-b957-4b1c-805e-492e234484b0"
      },
      "execution_count": null,
      "outputs": [
        {
          "output_type": "display_data",
          "data": {
            "application/javascript": [
              "\n",
              "        window._wandbApiKey = new Promise((resolve, reject) => {\n",
              "            function loadScript(url) {\n",
              "            return new Promise(function(resolve, reject) {\n",
              "                let newScript = document.createElement(\"script\");\n",
              "                newScript.onerror = reject;\n",
              "                newScript.onload = resolve;\n",
              "                document.body.appendChild(newScript);\n",
              "                newScript.src = url;\n",
              "            });\n",
              "            }\n",
              "            loadScript(\"https://cdn.jsdelivr.net/npm/postmate/build/postmate.min.js\").then(() => {\n",
              "            const iframe = document.createElement('iframe')\n",
              "            iframe.style.cssText = \"width:0;height:0;border:none\"\n",
              "            document.body.appendChild(iframe)\n",
              "            const handshake = new Postmate({\n",
              "                container: iframe,\n",
              "                url: 'https://wandb.ai/authorize'\n",
              "            });\n",
              "            const timeout = setTimeout(() => reject(\"Couldn't auto authenticate\"), 5000)\n",
              "            handshake.then(function(child) {\n",
              "                child.on('authorize', data => {\n",
              "                    clearTimeout(timeout)\n",
              "                    resolve(data)\n",
              "                });\n",
              "            });\n",
              "            })\n",
              "        });\n",
              "    "
            ],
            "text/plain": [
              "<IPython.core.display.Javascript object>"
            ]
          },
          "metadata": {}
        },
        {
          "output_type": "stream",
          "name": "stderr",
          "text": [
            "\u001b[34m\u001b[1mwandb\u001b[0m: You can find your API key in your browser here: https://wandb.ai/authorize\n"
          ]
        },
        {
          "name": "stdout",
          "output_type": "stream",
          "text": [
            "wandb: Paste an API key from your profile and hit enter, or press ctrl+c to quit: ··········\n"
          ]
        },
        {
          "output_type": "stream",
          "name": "stderr",
          "text": [
            "\u001b[34m\u001b[1mwandb\u001b[0m: Appending key for api.wandb.ai to your netrc file: /root/.netrc\n"
          ]
        },
        {
          "output_type": "display_data",
          "data": {
            "text/html": [
              "\n",
              "                    Syncing run <strong><a href=\"https://wandb.ai/safikhan/mnist%20test/runs/jypy0cyq\" target=\"_blank\">ruby-rain-2</a></strong> to <a href=\"https://wandb.ai/safikhan/mnist%20test\" target=\"_blank\">Weights & Biases</a> (<a href=\"https://docs.wandb.com/integrations/jupyter.html\" target=\"_blank\">docs</a>).<br/>\n",
              "\n",
              "                "
            ],
            "text/plain": [
              "<IPython.core.display.HTML object>"
            ]
          },
          "metadata": {}
        },
        {
          "output_type": "stream",
          "name": "stderr",
          "text": [
            "100%|██████████| 20/20 [27:17<00:00, 81.87s/it]\n"
          ]
        },
        {
          "output_type": "stream",
          "name": "stdout",
          "text": [
            "99.92962962962963\n",
            "97.48333333333333\n"
          ]
        },
        {
          "output_type": "stream",
          "name": "stderr",
          "text": [
            "\u001b[34m\u001b[1mwandb\u001b[0m: \u001b[33mWARNING\u001b[0m Calling wandb.run.save without any arguments is deprecated.Changes to attributes are automatically persisted.\n"
          ]
        },
        {
          "output_type": "stream",
          "name": "stdout",
          "text": [
            "Test accuracy: 97.48\n"
          ]
        },
        {
          "output_type": "display_data",
          "data": {
            "text/html": [
              "<br/>Waiting for W&B process to finish, PID 186... <strong style=\"color:green\">(success).</strong>"
            ],
            "text/plain": [
              "<IPython.core.display.HTML object>"
            ]
          },
          "metadata": {}
        },
        {
          "output_type": "display_data",
          "data": {
            "application/vnd.jupyter.widget-view+json": {
              "model_id": "2174ec287cf94766bdb9a31f09518eae",
              "version_minor": 0,
              "version_major": 2
            },
            "text/plain": [
              "VBox(children=(Label(value=' 0.00MB of 0.00MB uploaded (0.00MB deduped)\\r'), FloatProgress(value=1.0, max=1.0)…"
            ]
          },
          "metadata": {}
        },
        {
          "output_type": "display_data",
          "data": {
            "text/html": [
              "<style>\n",
              "    table.wandb td:nth-child(1) { padding: 0 10px; text-align: right }\n",
              "    .wandb-row { display: flex; flex-direction: row; flex-wrap: wrap; width: 100% }\n",
              "    .wandb-col { display: flex; flex-direction: column; flex-basis: 100%; flex: 1; padding: 10px; }\n",
              "    </style>\n",
              "<div class=\"wandb-row\"><div class=\"wandb-col\">\n",
              "<h3>Run history:</h3><br/><table class=\"wandb\"><tr><td>Train_Accuracy</td><td>▁▄▅▆▆▇▇▇▇▇▇█████████</td></tr><tr><td>Train_Loss</td><td>█▅▄▃▃▃▂▂▂▂▂▂▁▁▁▁▁▁▁▁</td></tr><tr><td>Validation_Accuracy</td><td>▁▅▆▇▇▇▇▇████████████</td></tr><tr><td>Validation_loss</td><td>█▃▂▁▁▁▁▁▁▁▁▂▂▂▂▂▃▃▃▃</td></tr><tr><td>epoch</td><td>▁▁▂▂▂▃▃▄▄▄▅▅▅▆▆▇▇▇██</td></tr></table><br/></div><div class=\"wandb-col\">\n",
              "<h3>Run summary:</h3><br/><table class=\"wandb\"><tr><td>Train_Accuracy</td><td>99.92963</td></tr><tr><td>Train_Loss</td><td>0.0053</td></tr><tr><td>Validation_Accuracy</td><td>97.48333</td></tr><tr><td>Validation_loss</td><td>0.12026</td></tr><tr><td>epoch</td><td>19</td></tr></table>\n",
              "</div></div>\n",
              "Synced 5 W&B file(s), 0 media file(s), 0 artifact file(s) and 0 other file(s)\n",
              "<br/>Synced <strong style=\"color:#cdcd00\">ruby-rain-2</strong>: <a href=\"https://wandb.ai/safikhan/mnist%20test/runs/jypy0cyq\" target=\"_blank\">https://wandb.ai/safikhan/mnist%20test/runs/jypy0cyq</a><br/>\n",
              "Find logs at: <code>./wandb/run-20220223_174056-jypy0cyq/logs</code><br/>\n"
            ],
            "text/plain": [
              "<IPython.core.display.HTML object>"
            ]
          },
          "metadata": {}
        }
      ]
    },
    {
      "cell_type": "markdown",
      "source": [
        "<h4>Configuration 2</h4>"
      ],
      "metadata": {
        "id": "AL2HNo7_pwDR"
      }
    },
    {
      "cell_type": "code",
      "source": [
        "config2 = {\n",
        "            'number_hidden_layers': 5,\n",
        "            'number_neurons': 128,\n",
        "            'learning_rate': 0.0001,\n",
        "            'weight_type': \"xavier\",\n",
        "            'activation_function':\"relu\",\n",
        "            'mini_batch_size' : 64,\n",
        "            'max_epochs': 20,\n",
        "            'lambd': 0.0005,\n",
        "            'optimization_function': \"nesterov_gd\",\n",
        "            'loss_function': \"cross_entropy\"\n",
        "              }"
      ],
      "metadata": {
        "id": "iVlAA6Swpvg-"
      },
      "execution_count": null,
      "outputs": []
    },
    {
      "cell_type": "code",
      "source": [
        "custom_config_mnist(config2, True, 2)"
      ],
      "metadata": {
        "colab": {
          "base_uri": "https://localhost:8080/",
          "height": 427,
          "referenced_widgets": [
            "0aa640b5c9e843b6b86370443e7de989",
            "510566ce597a42539c099fc4e2d80644",
            "7702c6812b6b4d9285fd00d4104430be",
            "d96c0570414545c3b812a0d90301edbc",
            "84c5bac8fe254dcb95d5526b50c496a1",
            "2c84c4f31d184131ae17610f9d75e2e9",
            "6c2458ee2e334fefb79d0d7ede73c0f5",
            "c6a586dcfa984e658e48dd7811d9a4ad"
          ]
        },
        "id": "kbYKXMv2qAHe",
        "outputId": "84391086-4fac-4c4f-f18d-787e75bec097"
      },
      "execution_count": null,
      "outputs": [
        {
          "output_type": "stream",
          "name": "stderr",
          "text": [
            "\u001b[34m\u001b[1mwandb\u001b[0m: Currently logged in as: \u001b[33msafikhan\u001b[0m (use `wandb login --relogin` to force relogin)\n"
          ]
        },
        {
          "output_type": "display_data",
          "data": {
            "text/html": [
              "\n",
              "                    Syncing run <strong><a href=\"https://wandb.ai/safikhan/mnist%20test/runs/41xuqt41\" target=\"_blank\">daily-rain-4</a></strong> to <a href=\"https://wandb.ai/safikhan/mnist%20test\" target=\"_blank\">Weights & Biases</a> (<a href=\"https://docs.wandb.com/integrations/jupyter.html\" target=\"_blank\">docs</a>).<br/>\n",
              "\n",
              "                "
            ],
            "text/plain": [
              "<IPython.core.display.HTML object>"
            ]
          },
          "metadata": {}
        },
        {
          "output_type": "stream",
          "name": "stderr",
          "text": [
            "100%|██████████| 20/20 [23:46<00:00, 71.34s/it]\n"
          ]
        },
        {
          "output_type": "stream",
          "name": "stdout",
          "text": [
            "99.38703703703705\n",
            "97.08333333333333\n"
          ]
        },
        {
          "output_type": "stream",
          "name": "stderr",
          "text": [
            "\u001b[34m\u001b[1mwandb\u001b[0m: \u001b[33mWARNING\u001b[0m Calling wandb.run.save without any arguments is deprecated.Changes to attributes are automatically persisted.\n"
          ]
        },
        {
          "output_type": "stream",
          "name": "stdout",
          "text": [
            "Test accuracy: 97.00999999999999\n"
          ]
        },
        {
          "output_type": "display_data",
          "data": {
            "text/html": [
              "<br/>Waiting for W&B process to finish, PID 477... <strong style=\"color:green\">(success).</strong>"
            ],
            "text/plain": [
              "<IPython.core.display.HTML object>"
            ]
          },
          "metadata": {}
        },
        {
          "output_type": "display_data",
          "data": {
            "application/vnd.jupyter.widget-view+json": {
              "model_id": "0aa640b5c9e843b6b86370443e7de989",
              "version_minor": 0,
              "version_major": 2
            },
            "text/plain": [
              "VBox(children=(Label(value=' 0.00MB of 0.00MB uploaded (0.00MB deduped)\\r'), FloatProgress(value=1.0, max=1.0)…"
            ]
          },
          "metadata": {}
        },
        {
          "output_type": "display_data",
          "data": {
            "text/html": [
              "<style>\n",
              "    table.wandb td:nth-child(1) { padding: 0 10px; text-align: right }\n",
              "    .wandb-row { display: flex; flex-direction: row; flex-wrap: wrap; width: 100% }\n",
              "    .wandb-col { display: flex; flex-direction: column; flex-basis: 100%; flex: 1; padding: 10px; }\n",
              "    </style>\n",
              "<div class=\"wandb-row\"><div class=\"wandb-col\">\n",
              "<h3>Run history:</h3><br/><table class=\"wandb\"><tr><td>Train_Accuracy</td><td>▁▄▅▅▆▆▅▇▇▇▇▇▇███▇███</td></tr><tr><td>Train_Loss</td><td>█▅▄▄▃▃▄▂▂▂▂▁▁▁▁▁▂▁▁▁</td></tr><tr><td>Validation_Accuracy</td><td>▁▄▆▅▆▆▅▇▇▇▇▇████▇██▇</td></tr><tr><td>Validation_loss</td><td>█▃▁▂▂▁▄▁▁▁▃▃▃▂▃▃▆▄▅▅</td></tr><tr><td>epoch</td><td>▁▁▂▂▂▃▃▄▄▄▅▅▅▆▆▇▇▇██</td></tr></table><br/></div><div class=\"wandb-col\">\n",
              "<h3>Run summary:</h3><br/><table class=\"wandb\"><tr><td>Train_Accuracy</td><td>99.38704</td></tr><tr><td>Train_Loss</td><td>0.01921</td></tr><tr><td>Validation_Accuracy</td><td>97.08333</td></tr><tr><td>Validation_loss</td><td>0.15636</td></tr><tr><td>epoch</td><td>19</td></tr></table>\n",
              "</div></div>\n",
              "Synced 5 W&B file(s), 0 media file(s), 0 artifact file(s) and 0 other file(s)\n",
              "<br/>Synced <strong style=\"color:#cdcd00\">daily-rain-4</strong>: <a href=\"https://wandb.ai/safikhan/mnist%20test/runs/41xuqt41\" target=\"_blank\">https://wandb.ai/safikhan/mnist%20test/runs/41xuqt41</a><br/>\n",
              "Find logs at: <code>./wandb/run-20220223_181153-41xuqt41/logs</code><br/>\n"
            ],
            "text/plain": [
              "<IPython.core.display.HTML object>"
            ]
          },
          "metadata": {}
        }
      ]
    },
    {
      "cell_type": "markdown",
      "source": [
        "<h4>Configuration 3</h4>"
      ],
      "metadata": {
        "id": "BcoZZ5fPqByM"
      }
    },
    {
      "cell_type": "code",
      "source": [
        "config3 = {\n",
        "            'number_hidden_layers': 4,\n",
        "            'number_neurons': 64,\n",
        "            'learning_rate': 0.0001,\n",
        "            'weight_type': \"xavier\",\n",
        "            'activation_function':\"relu\",\n",
        "            'mini_batch_size' : 32,\n",
        "            'max_epochs': 20,\n",
        "            'lambd': 0,\n",
        "            'optimization_function': \"momentum_gd\",\n",
        "            'loss_function': \"cross_entropy\"\n",
        "              }"
      ],
      "metadata": {
        "id": "EnRAEcKGqGR-"
      },
      "execution_count": null,
      "outputs": []
    },
    {
      "cell_type": "code",
      "source": [
        "custom_config_mnist(config3, True, 3)"
      ],
      "metadata": {
        "colab": {
          "base_uri": "https://localhost:8080/",
          "height": 392,
          "referenced_widgets": [
            "0804e5724c844c199b71f01b926033f4",
            "112fa9071e7f4643839af5675dde4b29",
            "7afce843532642d0bdc48b72d5286e15",
            "5e22b33609344bd6ad42cbf6895d5f63",
            "e37519bd05ea426391da7710a6f4e8fd",
            "dbe32aecff434ec8905e72c57888aa75",
            "e4767a5976e04fde957e72e41419b62b",
            "86a1b56c04c14c72b642fdbc8b0e54c9"
          ]
        },
        "id": "17TYj2FLqFFY",
        "outputId": "c69c1580-0185-4e40-cb9d-c6ab21a0805c"
      },
      "execution_count": null,
      "outputs": [
        {
          "output_type": "display_data",
          "data": {
            "text/html": [
              "\n",
              "                    Syncing run <strong><a href=\"https://wandb.ai/safikhan/mnist%20test/runs/223l71mq\" target=\"_blank\">cool-universe-5</a></strong> to <a href=\"https://wandb.ai/safikhan/mnist%20test\" target=\"_blank\">Weights & Biases</a> (<a href=\"https://docs.wandb.com/integrations/jupyter.html\" target=\"_blank\">docs</a>).<br/>\n",
              "\n",
              "                "
            ],
            "text/plain": [
              "<IPython.core.display.HTML object>"
            ]
          },
          "metadata": {}
        },
        {
          "output_type": "stream",
          "name": "stderr",
          "text": [
            "100%|██████████| 20/20 [12:09<00:00, 36.47s/it]\n"
          ]
        },
        {
          "output_type": "stream",
          "name": "stdout",
          "text": [
            "99.01111111111112\n",
            "96.73333333333333\n",
            "Test accuracy: 96.67\n"
          ]
        },
        {
          "output_type": "display_data",
          "data": {
            "text/html": [
              "<br/>Waiting for W&B process to finish, PID 619... <strong style=\"color:green\">(success).</strong>"
            ],
            "text/plain": [
              "<IPython.core.display.HTML object>"
            ]
          },
          "metadata": {}
        },
        {
          "output_type": "display_data",
          "data": {
            "application/vnd.jupyter.widget-view+json": {
              "model_id": "0804e5724c844c199b71f01b926033f4",
              "version_minor": 0,
              "version_major": 2
            },
            "text/plain": [
              "VBox(children=(Label(value=' 0.00MB of 0.00MB uploaded (0.00MB deduped)\\r'), FloatProgress(value=1.0, max=1.0)…"
            ]
          },
          "metadata": {}
        },
        {
          "output_type": "display_data",
          "data": {
            "text/html": [
              "<style>\n",
              "    table.wandb td:nth-child(1) { padding: 0 10px; text-align: right }\n",
              "    .wandb-row { display: flex; flex-direction: row; flex-wrap: wrap; width: 100% }\n",
              "    .wandb-col { display: flex; flex-direction: column; flex-basis: 100%; flex: 1; padding: 10px; }\n",
              "    </style>\n",
              "<div class=\"wandb-row\"><div class=\"wandb-col\">\n",
              "<h3>Run history:</h3><br/><table class=\"wandb\"><tr><td>Train_Accuracy</td><td>▁▃▄▅▆▆▇▇▇▇▇▇▇▇████▇█</td></tr><tr><td>Train_Loss</td><td>█▆▅▄▃▃▂▂▂▂▂▂▂▁▁▁▁▁▁▁</td></tr><tr><td>Validation_Accuracy</td><td>▁▄▅▆▆▇▇▇█████▇████▇▇</td></tr><tr><td>Validation_loss</td><td>█▅▃▂▁▁▁▁▁▂▂▂▂▃▃▃▃▄▆▅</td></tr><tr><td>epoch</td><td>▁▁▂▂▂▃▃▄▄▄▅▅▅▆▆▇▇▇██</td></tr></table><br/></div><div class=\"wandb-col\">\n",
              "<h3>Run summary:</h3><br/><table class=\"wandb\"><tr><td>Train_Accuracy</td><td>99.01111</td></tr><tr><td>Train_Loss</td><td>0.02866</td></tr><tr><td>Validation_Accuracy</td><td>96.73333</td></tr><tr><td>Validation_loss</td><td>0.15765</td></tr><tr><td>epoch</td><td>19</td></tr></table>\n",
              "</div></div>\n",
              "Synced 5 W&B file(s), 0 media file(s), 0 artifact file(s) and 0 other file(s)\n",
              "<br/>Synced <strong style=\"color:#cdcd00\">cool-universe-5</strong>: <a href=\"https://wandb.ai/safikhan/mnist%20test/runs/223l71mq\" target=\"_blank\">https://wandb.ai/safikhan/mnist%20test/runs/223l71mq</a><br/>\n",
              "Find logs at: <code>./wandb/run-20220223_183552-223l71mq/logs</code><br/>\n"
            ],
            "text/plain": [
              "<IPython.core.display.HTML object>"
            ]
          },
          "metadata": {}
        }
      ]
    }
  ]
}
